{
 "cells": [
  {
   "cell_type": "markdown",
   "metadata": {
    "id": "a_FSzTDIU4Tf"
   },
   "source": [
    "Urszula Krywalska"
   ]
  },
  {
   "cell_type": "code",
   "execution_count": null,
   "metadata": {
    "id": "ilyx08khqkVB"
   },
   "outputs": [],
   "source": [
    "import numpy as np \n",
    "import pandas as pd \n",
    "\n",
    "import re\n",
    "import nltk"
   ]
  },
  {
   "cell_type": "markdown",
   "metadata": {
    "id": "g3qTiI7_vuAQ"
   },
   "source": [
    "# Data analysis"
   ]
  },
  {
   "cell_type": "code",
   "execution_count": null,
   "metadata": {
    "id": "_vTlbg_HrkCO"
   },
   "outputs": [],
   "source": [
    "twitter_data = pd.read_csv(\"gender-classifier-DFE-791531.csv\", encoding = \"latin1\")"
   ]
  },
  {
   "cell_type": "code",
   "execution_count": null,
   "metadata": {
    "colab": {
     "base_uri": "https://localhost:8080/",
     "height": 531
    },
    "id": "P4G-kZzJryMC",
    "outputId": "1b5ca468-0cfc-4b1f-c43e-82fe22db225d"
   },
   "outputs": [
    {
     "data": {
      "text/html": [
       "\n",
       "  <div id=\"df-ce97fc55-907c-49f6-8b2b-3be6cc0bafd3\">\n",
       "    <div class=\"colab-df-container\">\n",
       "      <div>\n",
       "<style scoped>\n",
       "    .dataframe tbody tr th:only-of-type {\n",
       "        vertical-align: middle;\n",
       "    }\n",
       "\n",
       "    .dataframe tbody tr th {\n",
       "        vertical-align: top;\n",
       "    }\n",
       "\n",
       "    .dataframe thead th {\n",
       "        text-align: right;\n",
       "    }\n",
       "</style>\n",
       "<table border=\"1\" class=\"dataframe\">\n",
       "  <thead>\n",
       "    <tr style=\"text-align: right;\">\n",
       "      <th></th>\n",
       "      <th>_unit_id</th>\n",
       "      <th>_golden</th>\n",
       "      <th>_unit_state</th>\n",
       "      <th>_trusted_judgments</th>\n",
       "      <th>_last_judgment_at</th>\n",
       "      <th>gender</th>\n",
       "      <th>gender:confidence</th>\n",
       "      <th>profile_yn</th>\n",
       "      <th>profile_yn:confidence</th>\n",
       "      <th>created</th>\n",
       "      <th>description</th>\n",
       "      <th>fav_number</th>\n",
       "      <th>gender_gold</th>\n",
       "      <th>link_color</th>\n",
       "      <th>name</th>\n",
       "      <th>profile_yn_gold</th>\n",
       "      <th>profileimage</th>\n",
       "      <th>retweet_count</th>\n",
       "      <th>sidebar_color</th>\n",
       "      <th>text</th>\n",
       "      <th>tweet_coord</th>\n",
       "      <th>tweet_count</th>\n",
       "      <th>tweet_created</th>\n",
       "      <th>tweet_id</th>\n",
       "      <th>tweet_location</th>\n",
       "      <th>user_timezone</th>\n",
       "    </tr>\n",
       "  </thead>\n",
       "  <tbody>\n",
       "    <tr>\n",
       "      <th>0</th>\n",
       "      <td>815719226</td>\n",
       "      <td>False</td>\n",
       "      <td>finalized</td>\n",
       "      <td>3</td>\n",
       "      <td>10/26/15 23:24</td>\n",
       "      <td>male</td>\n",
       "      <td>1.0000</td>\n",
       "      <td>yes</td>\n",
       "      <td>1.0</td>\n",
       "      <td>12/5/13 1:48</td>\n",
       "      <td>i sing my own rhythm.</td>\n",
       "      <td>0</td>\n",
       "      <td>NaN</td>\n",
       "      <td>08C2C2</td>\n",
       "      <td>sheezy0</td>\n",
       "      <td>NaN</td>\n",
       "      <td>https://pbs.twimg.com/profile_images/414342229...</td>\n",
       "      <td>0</td>\n",
       "      <td>FFFFFF</td>\n",
       "      <td>Robbie E Responds To Critics After Win Against...</td>\n",
       "      <td>NaN</td>\n",
       "      <td>110964</td>\n",
       "      <td>10/26/15 12:40</td>\n",
       "      <td>6.587300e+17</td>\n",
       "      <td>main; @Kan1shk3</td>\n",
       "      <td>Chennai</td>\n",
       "    </tr>\n",
       "    <tr>\n",
       "      <th>1</th>\n",
       "      <td>815719227</td>\n",
       "      <td>False</td>\n",
       "      <td>finalized</td>\n",
       "      <td>3</td>\n",
       "      <td>10/26/15 23:30</td>\n",
       "      <td>male</td>\n",
       "      <td>1.0000</td>\n",
       "      <td>yes</td>\n",
       "      <td>1.0</td>\n",
       "      <td>10/1/12 13:51</td>\n",
       "      <td>I'm the author of novels filled with family dr...</td>\n",
       "      <td>68</td>\n",
       "      <td>NaN</td>\n",
       "      <td>0084B4</td>\n",
       "      <td>DavdBurnett</td>\n",
       "      <td>NaN</td>\n",
       "      <td>https://pbs.twimg.com/profile_images/539604221...</td>\n",
       "      <td>0</td>\n",
       "      <td>C0DEED</td>\n",
       "      <td>ÛÏIt felt like they were my friends and I was...</td>\n",
       "      <td>NaN</td>\n",
       "      <td>7471</td>\n",
       "      <td>10/26/15 12:40</td>\n",
       "      <td>6.587300e+17</td>\n",
       "      <td>NaN</td>\n",
       "      <td>Eastern Time (US &amp; Canada)</td>\n",
       "    </tr>\n",
       "    <tr>\n",
       "      <th>2</th>\n",
       "      <td>815719228</td>\n",
       "      <td>False</td>\n",
       "      <td>finalized</td>\n",
       "      <td>3</td>\n",
       "      <td>10/26/15 23:33</td>\n",
       "      <td>male</td>\n",
       "      <td>0.6625</td>\n",
       "      <td>yes</td>\n",
       "      <td>1.0</td>\n",
       "      <td>11/28/14 11:30</td>\n",
       "      <td>louis whining and squealing and all</td>\n",
       "      <td>7696</td>\n",
       "      <td>NaN</td>\n",
       "      <td>ABB8C2</td>\n",
       "      <td>lwtprettylaugh</td>\n",
       "      <td>NaN</td>\n",
       "      <td>https://pbs.twimg.com/profile_images/657330418...</td>\n",
       "      <td>1</td>\n",
       "      <td>C0DEED</td>\n",
       "      <td>i absolutely adore when louis starts the songs...</td>\n",
       "      <td>NaN</td>\n",
       "      <td>5617</td>\n",
       "      <td>10/26/15 12:40</td>\n",
       "      <td>6.587300e+17</td>\n",
       "      <td>clcncl</td>\n",
       "      <td>Belgrade</td>\n",
       "    </tr>\n",
       "    <tr>\n",
       "      <th>3</th>\n",
       "      <td>815719229</td>\n",
       "      <td>False</td>\n",
       "      <td>finalized</td>\n",
       "      <td>3</td>\n",
       "      <td>10/26/15 23:10</td>\n",
       "      <td>male</td>\n",
       "      <td>1.0000</td>\n",
       "      <td>yes</td>\n",
       "      <td>1.0</td>\n",
       "      <td>6/11/09 22:39</td>\n",
       "      <td>Mobile guy.  49ers, Shazam, Google, Kleiner Pe...</td>\n",
       "      <td>202</td>\n",
       "      <td>NaN</td>\n",
       "      <td>0084B4</td>\n",
       "      <td>douggarland</td>\n",
       "      <td>NaN</td>\n",
       "      <td>https://pbs.twimg.com/profile_images/259703936...</td>\n",
       "      <td>0</td>\n",
       "      <td>C0DEED</td>\n",
       "      <td>Hi @JordanSpieth - Looking at the url - do you...</td>\n",
       "      <td>NaN</td>\n",
       "      <td>1693</td>\n",
       "      <td>10/26/15 12:40</td>\n",
       "      <td>6.587300e+17</td>\n",
       "      <td>Palo Alto, CA</td>\n",
       "      <td>Pacific Time (US &amp; Canada)</td>\n",
       "    </tr>\n",
       "    <tr>\n",
       "      <th>4</th>\n",
       "      <td>815719230</td>\n",
       "      <td>False</td>\n",
       "      <td>finalized</td>\n",
       "      <td>3</td>\n",
       "      <td>10/27/15 1:15</td>\n",
       "      <td>female</td>\n",
       "      <td>1.0000</td>\n",
       "      <td>yes</td>\n",
       "      <td>1.0</td>\n",
       "      <td>4/16/14 13:23</td>\n",
       "      <td>Ricky Wilson The Best FRONTMAN/Kaiser Chiefs T...</td>\n",
       "      <td>37318</td>\n",
       "      <td>NaN</td>\n",
       "      <td>3B94D9</td>\n",
       "      <td>WilfordGemma</td>\n",
       "      <td>NaN</td>\n",
       "      <td>https://pbs.twimg.com/profile_images/564094871...</td>\n",
       "      <td>0</td>\n",
       "      <td>0</td>\n",
       "      <td>Watching Neighbours on Sky+ catching up with t...</td>\n",
       "      <td>NaN</td>\n",
       "      <td>31462</td>\n",
       "      <td>10/26/15 12:40</td>\n",
       "      <td>6.587300e+17</td>\n",
       "      <td>NaN</td>\n",
       "      <td>NaN</td>\n",
       "    </tr>\n",
       "  </tbody>\n",
       "</table>\n",
       "</div>\n",
       "      <button class=\"colab-df-convert\" onclick=\"convertToInteractive('df-ce97fc55-907c-49f6-8b2b-3be6cc0bafd3')\"\n",
       "              title=\"Convert this dataframe to an interactive table.\"\n",
       "              style=\"display:none;\">\n",
       "        \n",
       "  <svg xmlns=\"http://www.w3.org/2000/svg\" height=\"24px\"viewBox=\"0 0 24 24\"\n",
       "       width=\"24px\">\n",
       "    <path d=\"M0 0h24v24H0V0z\" fill=\"none\"/>\n",
       "    <path d=\"M18.56 5.44l.94 2.06.94-2.06 2.06-.94-2.06-.94-.94-2.06-.94 2.06-2.06.94zm-11 1L8.5 8.5l.94-2.06 2.06-.94-2.06-.94L8.5 2.5l-.94 2.06-2.06.94zm10 10l.94 2.06.94-2.06 2.06-.94-2.06-.94-.94-2.06-.94 2.06-2.06.94z\"/><path d=\"M17.41 7.96l-1.37-1.37c-.4-.4-.92-.59-1.43-.59-.52 0-1.04.2-1.43.59L10.3 9.45l-7.72 7.72c-.78.78-.78 2.05 0 2.83L4 21.41c.39.39.9.59 1.41.59.51 0 1.02-.2 1.41-.59l7.78-7.78 2.81-2.81c.8-.78.8-2.07 0-2.86zM5.41 20L4 18.59l7.72-7.72 1.47 1.35L5.41 20z\"/>\n",
       "  </svg>\n",
       "      </button>\n",
       "      \n",
       "  <style>\n",
       "    .colab-df-container {\n",
       "      display:flex;\n",
       "      flex-wrap:wrap;\n",
       "      gap: 12px;\n",
       "    }\n",
       "\n",
       "    .colab-df-convert {\n",
       "      background-color: #E8F0FE;\n",
       "      border: none;\n",
       "      border-radius: 50%;\n",
       "      cursor: pointer;\n",
       "      display: none;\n",
       "      fill: #1967D2;\n",
       "      height: 32px;\n",
       "      padding: 0 0 0 0;\n",
       "      width: 32px;\n",
       "    }\n",
       "\n",
       "    .colab-df-convert:hover {\n",
       "      background-color: #E2EBFA;\n",
       "      box-shadow: 0px 1px 2px rgba(60, 64, 67, 0.3), 0px 1px 3px 1px rgba(60, 64, 67, 0.15);\n",
       "      fill: #174EA6;\n",
       "    }\n",
       "\n",
       "    [theme=dark] .colab-df-convert {\n",
       "      background-color: #3B4455;\n",
       "      fill: #D2E3FC;\n",
       "    }\n",
       "\n",
       "    [theme=dark] .colab-df-convert:hover {\n",
       "      background-color: #434B5C;\n",
       "      box-shadow: 0px 1px 3px 1px rgba(0, 0, 0, 0.15);\n",
       "      filter: drop-shadow(0px 1px 2px rgba(0, 0, 0, 0.3));\n",
       "      fill: #FFFFFF;\n",
       "    }\n",
       "  </style>\n",
       "\n",
       "      <script>\n",
       "        const buttonEl =\n",
       "          document.querySelector('#df-ce97fc55-907c-49f6-8b2b-3be6cc0bafd3 button.colab-df-convert');\n",
       "        buttonEl.style.display =\n",
       "          google.colab.kernel.accessAllowed ? 'block' : 'none';\n",
       "\n",
       "        async function convertToInteractive(key) {\n",
       "          const element = document.querySelector('#df-ce97fc55-907c-49f6-8b2b-3be6cc0bafd3');\n",
       "          const dataTable =\n",
       "            await google.colab.kernel.invokeFunction('convertToInteractive',\n",
       "                                                     [key], {});\n",
       "          if (!dataTable) return;\n",
       "\n",
       "          const docLinkHtml = 'Like what you see? Visit the ' +\n",
       "            '<a target=\"_blank\" href=https://colab.research.google.com/notebooks/data_table.ipynb>data table notebook</a>'\n",
       "            + ' to learn more about interactive tables.';\n",
       "          element.innerHTML = '';\n",
       "          dataTable['output_type'] = 'display_data';\n",
       "          await google.colab.output.renderOutput(dataTable, element);\n",
       "          const docLink = document.createElement('div');\n",
       "          docLink.innerHTML = docLinkHtml;\n",
       "          element.appendChild(docLink);\n",
       "        }\n",
       "      </script>\n",
       "    </div>\n",
       "  </div>\n",
       "  "
      ],
      "text/plain": [
       "    _unit_id  _golden  ...   tweet_location               user_timezone\n",
       "0  815719226    False  ...  main; @Kan1shk3                     Chennai\n",
       "1  815719227    False  ...              NaN  Eastern Time (US & Canada)\n",
       "2  815719228    False  ...           clcncl                    Belgrade\n",
       "3  815719229    False  ...    Palo Alto, CA  Pacific Time (US & Canada)\n",
       "4  815719230    False  ...              NaN                         NaN\n",
       "\n",
       "[5 rows x 26 columns]"
      ]
     },
     "execution_count": 7,
     "metadata": {},
     "output_type": "execute_result"
    }
   ],
   "source": [
    "twitter_data.head()"
   ]
  },
  {
   "cell_type": "code",
   "execution_count": null,
   "metadata": {
    "colab": {
     "base_uri": "https://localhost:8080/"
    },
    "id": "k-a78j0_vhEf",
    "outputId": "e6820517-f991-4cfe-fbbf-76e45a9d0256"
   },
   "outputs": [
    {
     "name": "stdout",
     "output_type": "stream",
     "text": [
      "<class 'pandas.core.frame.DataFrame'>\n",
      "RangeIndex: 20050 entries, 0 to 20049\n",
      "Data columns (total 26 columns):\n",
      " #   Column                 Non-Null Count  Dtype  \n",
      "---  ------                 --------------  -----  \n",
      " 0   _unit_id               20050 non-null  int64  \n",
      " 1   _golden                20050 non-null  bool   \n",
      " 2   _unit_state            20050 non-null  object \n",
      " 3   _trusted_judgments     20050 non-null  int64  \n",
      " 4   _last_judgment_at      20000 non-null  object \n",
      " 5   gender                 19953 non-null  object \n",
      " 6   gender:confidence      20024 non-null  float64\n",
      " 7   profile_yn             20050 non-null  object \n",
      " 8   profile_yn:confidence  20050 non-null  float64\n",
      " 9   created                20050 non-null  object \n",
      " 10  description            16306 non-null  object \n",
      " 11  fav_number             20050 non-null  int64  \n",
      " 12  gender_gold            50 non-null     object \n",
      " 13  link_color             20050 non-null  object \n",
      " 14  name                   20050 non-null  object \n",
      " 15  profile_yn_gold        50 non-null     object \n",
      " 16  profileimage           20050 non-null  object \n",
      " 17  retweet_count          20050 non-null  int64  \n",
      " 18  sidebar_color          20050 non-null  object \n",
      " 19  text                   20050 non-null  object \n",
      " 20  tweet_coord            159 non-null    object \n",
      " 21  tweet_count            20050 non-null  int64  \n",
      " 22  tweet_created          20050 non-null  object \n",
      " 23  tweet_id               20050 non-null  float64\n",
      " 24  tweet_location         12566 non-null  object \n",
      " 25  user_timezone          12252 non-null  object \n",
      "dtypes: bool(1), float64(3), int64(5), object(17)\n",
      "memory usage: 3.8+ MB\n"
     ]
    }
   ],
   "source": [
    "twitter_data.info()"
   ]
  },
  {
   "cell_type": "code",
   "execution_count": null,
   "metadata": {
    "colab": {
     "base_uri": "https://localhost:8080/"
    },
    "id": "hY77ytgOr48C",
    "outputId": "6ae063f4-5d8c-4913-c7e5-0f8f228c7174"
   },
   "outputs": [
    {
     "data": {
      "text/plain": [
       "20050"
      ]
     },
     "execution_count": 9,
     "metadata": {},
     "output_type": "execute_result"
    }
   ],
   "source": [
    "len(twitter_data)"
   ]
  },
  {
   "cell_type": "markdown",
   "metadata": {
    "id": "XkrRe2n9sXuJ"
   },
   "source": [
    "# Data Preprocessing"
   ]
  },
  {
   "cell_type": "code",
   "execution_count": null,
   "metadata": {
    "colab": {
     "base_uri": "https://localhost:8080/",
     "height": 206
    },
    "id": "qEpvaVPasBYI",
    "outputId": "11ea67b2-43e1-457d-be8f-157321a6f994"
   },
   "outputs": [
    {
     "data": {
      "text/html": [
       "\n",
       "  <div id=\"df-2ce20c24-097c-4160-8b91-2c48c50a7d4f\">\n",
       "    <div class=\"colab-df-container\">\n",
       "      <div>\n",
       "<style scoped>\n",
       "    .dataframe tbody tr th:only-of-type {\n",
       "        vertical-align: middle;\n",
       "    }\n",
       "\n",
       "    .dataframe tbody tr th {\n",
       "        vertical-align: top;\n",
       "    }\n",
       "\n",
       "    .dataframe thead th {\n",
       "        text-align: right;\n",
       "    }\n",
       "</style>\n",
       "<table border=\"1\" class=\"dataframe\">\n",
       "  <thead>\n",
       "    <tr style=\"text-align: right;\">\n",
       "      <th></th>\n",
       "      <th>gender</th>\n",
       "      <th>description</th>\n",
       "    </tr>\n",
       "  </thead>\n",
       "  <tbody>\n",
       "    <tr>\n",
       "      <th>0</th>\n",
       "      <td>male</td>\n",
       "      <td>i sing my own rhythm.</td>\n",
       "    </tr>\n",
       "    <tr>\n",
       "      <th>1</th>\n",
       "      <td>male</td>\n",
       "      <td>I'm the author of novels filled with family dr...</td>\n",
       "    </tr>\n",
       "    <tr>\n",
       "      <th>2</th>\n",
       "      <td>male</td>\n",
       "      <td>louis whining and squealing and all</td>\n",
       "    </tr>\n",
       "    <tr>\n",
       "      <th>3</th>\n",
       "      <td>male</td>\n",
       "      <td>Mobile guy.  49ers, Shazam, Google, Kleiner Pe...</td>\n",
       "    </tr>\n",
       "    <tr>\n",
       "      <th>4</th>\n",
       "      <td>female</td>\n",
       "      <td>Ricky Wilson The Best FRONTMAN/Kaiser Chiefs T...</td>\n",
       "    </tr>\n",
       "  </tbody>\n",
       "</table>\n",
       "</div>\n",
       "      <button class=\"colab-df-convert\" onclick=\"convertToInteractive('df-2ce20c24-097c-4160-8b91-2c48c50a7d4f')\"\n",
       "              title=\"Convert this dataframe to an interactive table.\"\n",
       "              style=\"display:none;\">\n",
       "        \n",
       "  <svg xmlns=\"http://www.w3.org/2000/svg\" height=\"24px\"viewBox=\"0 0 24 24\"\n",
       "       width=\"24px\">\n",
       "    <path d=\"M0 0h24v24H0V0z\" fill=\"none\"/>\n",
       "    <path d=\"M18.56 5.44l.94 2.06.94-2.06 2.06-.94-2.06-.94-.94-2.06-.94 2.06-2.06.94zm-11 1L8.5 8.5l.94-2.06 2.06-.94-2.06-.94L8.5 2.5l-.94 2.06-2.06.94zm10 10l.94 2.06.94-2.06 2.06-.94-2.06-.94-.94-2.06-.94 2.06-2.06.94z\"/><path d=\"M17.41 7.96l-1.37-1.37c-.4-.4-.92-.59-1.43-.59-.52 0-1.04.2-1.43.59L10.3 9.45l-7.72 7.72c-.78.78-.78 2.05 0 2.83L4 21.41c.39.39.9.59 1.41.59.51 0 1.02-.2 1.41-.59l7.78-7.78 2.81-2.81c.8-.78.8-2.07 0-2.86zM5.41 20L4 18.59l7.72-7.72 1.47 1.35L5.41 20z\"/>\n",
       "  </svg>\n",
       "      </button>\n",
       "      \n",
       "  <style>\n",
       "    .colab-df-container {\n",
       "      display:flex;\n",
       "      flex-wrap:wrap;\n",
       "      gap: 12px;\n",
       "    }\n",
       "\n",
       "    .colab-df-convert {\n",
       "      background-color: #E8F0FE;\n",
       "      border: none;\n",
       "      border-radius: 50%;\n",
       "      cursor: pointer;\n",
       "      display: none;\n",
       "      fill: #1967D2;\n",
       "      height: 32px;\n",
       "      padding: 0 0 0 0;\n",
       "      width: 32px;\n",
       "    }\n",
       "\n",
       "    .colab-df-convert:hover {\n",
       "      background-color: #E2EBFA;\n",
       "      box-shadow: 0px 1px 2px rgba(60, 64, 67, 0.3), 0px 1px 3px 1px rgba(60, 64, 67, 0.15);\n",
       "      fill: #174EA6;\n",
       "    }\n",
       "\n",
       "    [theme=dark] .colab-df-convert {\n",
       "      background-color: #3B4455;\n",
       "      fill: #D2E3FC;\n",
       "    }\n",
       "\n",
       "    [theme=dark] .colab-df-convert:hover {\n",
       "      background-color: #434B5C;\n",
       "      box-shadow: 0px 1px 3px 1px rgba(0, 0, 0, 0.15);\n",
       "      filter: drop-shadow(0px 1px 2px rgba(0, 0, 0, 0.3));\n",
       "      fill: #FFFFFF;\n",
       "    }\n",
       "  </style>\n",
       "\n",
       "      <script>\n",
       "        const buttonEl =\n",
       "          document.querySelector('#df-2ce20c24-097c-4160-8b91-2c48c50a7d4f button.colab-df-convert');\n",
       "        buttonEl.style.display =\n",
       "          google.colab.kernel.accessAllowed ? 'block' : 'none';\n",
       "\n",
       "        async function convertToInteractive(key) {\n",
       "          const element = document.querySelector('#df-2ce20c24-097c-4160-8b91-2c48c50a7d4f');\n",
       "          const dataTable =\n",
       "            await google.colab.kernel.invokeFunction('convertToInteractive',\n",
       "                                                     [key], {});\n",
       "          if (!dataTable) return;\n",
       "\n",
       "          const docLinkHtml = 'Like what you see? Visit the ' +\n",
       "            '<a target=\"_blank\" href=https://colab.research.google.com/notebooks/data_table.ipynb>data table notebook</a>'\n",
       "            + ' to learn more about interactive tables.';\n",
       "          element.innerHTML = '';\n",
       "          dataTable['output_type'] = 'display_data';\n",
       "          await google.colab.output.renderOutput(dataTable, element);\n",
       "          const docLink = document.createElement('div');\n",
       "          docLink.innerHTML = docLinkHtml;\n",
       "          element.appendChild(docLink);\n",
       "        }\n",
       "      </script>\n",
       "    </div>\n",
       "  </div>\n",
       "  "
      ],
      "text/plain": [
       "   gender                                        description\n",
       "0    male                              i sing my own rhythm.\n",
       "1    male  I'm the author of novels filled with family dr...\n",
       "2    male                louis whining and squealing and all\n",
       "3    male  Mobile guy.  49ers, Shazam, Google, Kleiner Pe...\n",
       "4  female  Ricky Wilson The Best FRONTMAN/Kaiser Chiefs T..."
      ]
     },
     "execution_count": 10,
     "metadata": {},
     "output_type": "execute_result"
    }
   ],
   "source": [
    "#using only tweet and gender columns \n",
    "twitter_data = pd.concat([twitter_data.gender,twitter_data.description],axis=1)\n",
    "twitter_data.head()"
   ]
  },
  {
   "cell_type": "code",
   "execution_count": null,
   "metadata": {
    "colab": {
     "base_uri": "https://localhost:8080/"
    },
    "id": "yLpEvWbItEbT",
    "outputId": "f2613c05-a4ef-4e55-ac6d-c8981d491e12"
   },
   "outputs": [
    {
     "data": {
      "text/plain": [
       "gender           97\n",
       "description    3744\n",
       "dtype: int64"
      ]
     },
     "execution_count": 11,
     "metadata": {},
     "output_type": "execute_result"
    }
   ],
   "source": [
    "twitter_data.isna().sum()"
   ]
  },
  {
   "cell_type": "code",
   "execution_count": null,
   "metadata": {
    "id": "HGqbsQI-tt39"
   },
   "outputs": [],
   "source": [
    "twitter_data.dropna(axis=0,inplace=True)"
   ]
  },
  {
   "cell_type": "code",
   "execution_count": null,
   "metadata": {
    "colab": {
     "base_uri": "https://localhost:8080/"
    },
    "id": "pQTO8KBQt1_0",
    "outputId": "2d0b0e38-0a20-4295-90c7-56ca19ebc1fe"
   },
   "outputs": [
    {
     "data": {
      "text/plain": [
       "16224"
      ]
     },
     "execution_count": 13,
     "metadata": {},
     "output_type": "execute_result"
    }
   ],
   "source": [
    "len(twitter_data)"
   ]
  },
  {
   "cell_type": "code",
   "execution_count": null,
   "metadata": {
    "colab": {
     "base_uri": "https://localhost:8080/"
    },
    "id": "9UCTW1Rht5hR",
    "outputId": "c79735d8-9cdf-4829-b081-1d392e175eee"
   },
   "outputs": [
    {
     "data": {
      "text/plain": [
       "(16224, 2)"
      ]
     },
     "execution_count": 14,
     "metadata": {},
     "output_type": "execute_result"
    }
   ],
   "source": [
    "twitter_data.shape"
   ]
  },
  {
   "cell_type": "code",
   "execution_count": null,
   "metadata": {
    "colab": {
     "base_uri": "https://localhost:8080/"
    },
    "id": "NQlH7iDovoPW",
    "outputId": "3c6eeb86-e938-4f5c-8197-06ab36c0f69b"
   },
   "outputs": [
    {
     "data": {
      "text/plain": [
       "female     5725\n",
       "male       5469\n",
       "brand      4328\n",
       "unknown     702\n",
       "Name: gender, dtype: int64"
      ]
     },
     "execution_count": 15,
     "metadata": {},
     "output_type": "execute_result"
    }
   ],
   "source": [
    "pd.value_counts(twitter_data['gender'])"
   ]
  },
  {
   "cell_type": "code",
   "execution_count": null,
   "metadata": {
    "id": "7ysQ19yQxhno"
   },
   "outputs": [],
   "source": [
    "unknownGender = twitter_data[twitter_data['gender']== 'unknown'].index"
   ]
  },
  {
   "cell_type": "code",
   "execution_count": null,
   "metadata": {
    "id": "EfGQoMpSxuKP"
   },
   "outputs": [],
   "source": [
    "twitter_data.drop(unknownGender, inplace=True)"
   ]
  },
  {
   "cell_type": "code",
   "execution_count": null,
   "metadata": {
    "colab": {
     "base_uri": "https://localhost:8080/"
    },
    "id": "G0UUxAqux345",
    "outputId": "f5361ed4-3735-4405-f7e0-c5295a818842"
   },
   "outputs": [
    {
     "data": {
      "text/plain": [
       "female    5725\n",
       "male      5469\n",
       "brand     4328\n",
       "Name: gender, dtype: int64"
      ]
     },
     "execution_count": 18,
     "metadata": {},
     "output_type": "execute_result"
    }
   ],
   "source": [
    "pd.value_counts(twitter_data['gender'])"
   ]
  },
  {
   "cell_type": "code",
   "execution_count": null,
   "metadata": {
    "colab": {
     "base_uri": "https://localhost:8080/"
    },
    "id": "4lpcnNZKx6Yt",
    "outputId": "6ef4c888-eb3a-4722-f886-f885f6ec36c9"
   },
   "outputs": [
    {
     "name": "stdout",
     "output_type": "stream",
     "text": [
      "<class 'pandas.core.frame.DataFrame'>\n",
      "Int64Index: 15522 entries, 0 to 20049\n",
      "Data columns (total 2 columns):\n",
      " #   Column       Non-Null Count  Dtype \n",
      "---  ------       --------------  ----- \n",
      " 0   gender       15522 non-null  object\n",
      " 1   description  15522 non-null  object\n",
      "dtypes: object(2)\n",
      "memory usage: 363.8+ KB\n"
     ]
    }
   ],
   "source": [
    "twitter_data.info()"
   ]
  },
  {
   "cell_type": "code",
   "execution_count": null,
   "metadata": {
    "colab": {
     "base_uri": "https://localhost:8080/"
    },
    "id": "i38HadUMydGP",
    "outputId": "beed9d43-f6a4-4d53-c6cc-c128e1b17d12"
   },
   "outputs": [
    {
     "name": "stdout",
     "output_type": "stream",
     "text": [
      "[nltk_data] Downloading package punkt to /root/nltk_data...\n",
      "[nltk_data]   Unzipping tokenizers/punkt.zip.\n",
      "[nltk_data] Downloading package stopwords to /root/nltk_data...\n",
      "[nltk_data]   Unzipping corpora/stopwords.zip.\n",
      "[nltk_data] Downloading package wordnet to /root/nltk_data...\n",
      "[nltk_data]   Unzipping corpora/wordnet.zip.\n"
     ]
    },
    {
     "data": {
      "text/plain": [
       "True"
      ]
     },
     "execution_count": 20,
     "metadata": {},
     "output_type": "execute_result"
    }
   ],
   "source": [
    "from nltk.corpus import stopwords\n",
    "lemma = nltk.WordNetLemmatizer() \n",
    "nltk.download('punkt')\n",
    "nltk.download('stopwords')\n",
    "nltk.download('wordnet')"
   ]
  },
  {
   "cell_type": "code",
   "execution_count": null,
   "metadata": {
    "id": "MTxEuun30SjK"
   },
   "outputs": [],
   "source": [
    "tweets_list = []            # empty list\n",
    "for each in twitter_data['description']:\n",
    "    each = re.sub(\"[^a-zA-Z]\",\" \", str(each))                                        # regex to clean unnecesarry chars\n",
    "    each = each.lower()                                                              # lowercase \n",
    "    each = nltk.word_tokenize(each)                                                  # split all by tokenizing\n",
    "    each = [word for word in each if not word in set(stopwords.words(\"english\"))]    # delete stop words \n",
    "    each = [lemma.lemmatize(word) for word in each]                                  # lemmatize \n",
    "    each = \" \".join(each)                                                            \n",
    "    tweets_list.append(each) "
   ]
  },
  {
   "cell_type": "code",
   "execution_count": null,
   "metadata": {
    "colab": {
     "base_uri": "https://localhost:8080/"
    },
    "id": "WhsKOJIa1JnH",
    "outputId": "602917ef-cc75-4c76-b3d3-58eb7f6190ca"
   },
   "outputs": [
    {
     "name": "stdout",
     "output_type": "stream",
     "text": [
      "Original version:  I'm the author of novels filled with family drama and romance.\n",
      "New version:       author novel filled family drama romance\n"
     ]
    }
   ],
   "source": [
    "print(\"Original version: \", twitter_data['description'][1])\n",
    "print(\"New version:      \", tweets_list[1]) "
   ]
  },
  {
   "cell_type": "code",
   "execution_count": null,
   "metadata": {
    "colab": {
     "base_uri": "https://localhost:8080/"
    },
    "id": "Otn3IMEF2U9_",
    "outputId": "648ec84b-9fb7-4f90-8d5a-58d91397da23"
   },
   "outputs": [
    {
     "data": {
      "text/plain": [
       "['sing rhythm',\n",
       " 'author novel filled family drama romance',\n",
       " 'louis whining squealing',\n",
       " 'mobile guy er shazam google kleiner perkins yahoo sprint pc airtouch air force stanford gsb uva dad husband brother golfer',\n",
       " 'ricky wilson best frontman kaiser chief best band xxxx thank kaiser chief incredible year gig memory cherish always xxxxxxx',\n",
       " 'know',\n",
       " 'global marketplace image video music sharing photo inspiration design tip video creative community',\n",
       " 'secret getting ahead getting started',\n",
       " 'pll fan crazy mcd ramen bae',\n",
       " 'renaissance art historian university nottingham fuelled haribo partial coffee soft spot renaissance china national teaching fellow',\n",
       " 'clean food taste great providing energy nutrient guilt granola vegan paleo friendly option cert organic gf kosher',\n",
       " 'highly extraordinary auction',\n",
       " 'senior xi xii mmxiv',\n",
       " 'come join fastest blog network online today http co mfpa vgk http co mpuuqtyf g cover credit repair credit card bankruptcy',\n",
       " 'im p bo burnham disney world',\n",
       " 'jmkm',\n",
       " 'enthusiastic f fan model collector music fan film fanatic also aspergian',\n",
       " 'artisan specializing paper mache print making fibre art art teacher cat devotee find page fb http co g bstg icv',\n",
       " 'bled died take away sin',\n",
       " 'union j xxxx',\n",
       " 'start',\n",
       " 'bsc economics graduate coys',\n",
       " 'wife coach mom eight troop follower christ',\n",
       " 'question islam would like answer visit http co alpmzgct x chat u',\n",
       " 'canadian space enthusiast future astronaut hopefully',\n",
       " 'dm closed sc dear moonshine',\n",
       " 'rl writer lewd aspiring femboy enjoys oneechans girlcock rts softcore r nsfw account listed',\n",
       " 'breaking industry news people believe thing much tv know',\n",
       " 'award winning author paranormal romance thriller hath fury technology writer http co lmmiowenqq asmsg',\n",
       " 'self proclaimed princess occasional pain as',\n",
       " 'k smooty drink alot could worse scrolling girl nude watching brady beat team patsnation suprememeninist alwaysturnt',\n",
       " 'everything need find job keep follow tweet new job posting',\n",
       " 'free bros ebk otr real kno grind wea come',\n",
       " 'nation leading voice childcare advocating affordable high quality ece working family undertakes research report child care data',\n",
       " 'penn state alum classof',\n",
       " 'mirage homage capri eternal hopeless romantic really hopeles',\n",
       " 'lover woman dog cat dog movie comic tv video game book wrestling existentialism adult ent',\n",
       " 'collective genre specific blog combining like voltron provide best coverage imaginable thefullbleed scifitalk geeklegacy thmatrix',\n",
       " 'militante obrero de los sue o revolucionarios desde toda la vida chavista de coraz n comandante vives x pre',\n",
       " 'love animal fetchfind new way find job network pet industry mascot heyfetchy fetchylovesyou',\n",
       " 'baby perfect niallofficial',\n",
       " 'kennedy j abulala ni mwalimu anayeienzi kazi yake mwalimu wa kiswahili',\n",
       " 'krothedj gmail com instagram djkro',\n",
       " 'slightly ginger blue eye park run',\n",
       " 'living life top food chain',\n",
       " 'n ipgkk',\n",
       " 'home office business sweet business',\n",
       " 'goodmorning mention anyone retweeet must follow back fav follow',\n",
       " 'pc xbox playstation esports music edm stock sex',\n",
       " 'warholian obsessor creating within orwellian nightmare allsceneeye larecord',\n",
       " 'blade instagram scottryan',\n",
       " 'control jpn version zoe jbot rayark implosion',\n",
       " 'want life advertise service free get rid money worry',\n",
       " 'curious guy',\n",
       " 'discover heal illness pain',\n",
       " 'team di reporter e giornalisti lavoriamo con video e web la nostra giornata tra cronaca attualit politica e sport info smlive',\n",
       " 'like sleep',\n",
       " 'ask question get lie spoopytaylor',\n",
       " 'photography booking enquiry dm call email abphotography gmail com insta b photography teamchrist',\n",
       " 'born czech republic live ireland wan na germany ouat oitnb',\n",
       " 'angel could',\n",
       " 'following money opening governance fighting corruption globalintegrity opengovhub tweet',\n",
       " 'retired bad girl queen',\n",
       " 'walk faith sight',\n",
       " 'h ncisla bone castle arrow chicago fire chicago pd poi elementary tbbt agent shield grey anatomy last ship callen mcroll ajax lfc bar rafa nadal',\n",
       " 'apollo bot pulling aj dd randomly post every hour spoiler abound construction progress complete',\n",
       " 'south beach th street miami beach fl sunny isle beach collins ave c sunny isle beach fl',\n",
       " '',\n",
       " 'like snow beautiful cold legal drug dealer original extraordinary psychic want know better talk',\n",
       " 'official twitter account wichita fall wildcat nahlhockey south division est restoretheroar',\n",
       " 'wife tidy boy amadeus director ideal place proud mother max mozart',\n",
       " 'delivering date news entertainment world',\n",
       " 'lie get halfway around world truth chance get pant',\n",
       " 'lover truth seeker knowledge',\n",
       " 'chase trend make statement hoodlyfe http co abfak idjb',\n",
       " 'calm collected followbackandsee',\n",
       " 'artist evaluating life radiation oncology student want make difference comedian rule breaker forcelectures live drawz http co nsf zd hfy',\n",
       " 'tcg staffing firm place design interactive marketing professional freelance full time job see job',\n",
       " 'hi name angela friend call angie boring life consisting college work nothing post bio',\n",
       " 'sport medium opinion established contact u jmcintyre usatoday com',\n",
       " 'repair make model phone tablet mp player professionally repairing electronic equipment since',\n",
       " 'sportswriter cigar lover dreamer pro writer sportsblog ustadium ambassador suffering yankee net jet fan fau',\n",
       " 'charity volunteer',\n",
       " 'hip hop usb album breakstix usb break beat http co iaof r hv',\n",
       " '',\n",
       " 'card get everywhere anything anyhow please use credit card wisely please get tip using credit card site',\n",
       " 'dallas tx news need one spot thanks following please send along suggestion may',\n",
       " 'maker conceptor creative developer xbac bd conception geek dev agile neutralite opensource privacy copyright',\n",
       " 'calm cool',\n",
       " 'retro modernist suffering unsightly visibility',\n",
       " 'multiple sclerosis life brant county together community partner want help living disease',\n",
       " 'doctorate physic time olympic swimming gold medalist professional liar',\n",
       " 'trust people like big butt lie',\n",
       " 'dont take tweet serious shrug shit happens look link pin reason',\n",
       " 'come agrown agtech investor conference join convo cea u feat jayfamiglietti genegiacomelli meiny prins actonclimate agcon',\n",
       " 'community outreach medicaid managed care board member united way chicago gerontology advocate underserved community isu alumnus',\n",
       " 'ventas digitales ibm espa toda mi opiniones son personales la hay de todos los colores tambi n puedes contactarme en http co u r x hr',\n",
       " 'freeza ripnazerah',\n",
       " 'f p f',\n",
       " 'weekly hip hop podcast new show every wednesday rooted hip hop limited nothing marketing excusemyadlib com',\n",
       " 'catalyst happiness',\n",
       " 'idiot baltimore think funny',\n",
       " 'computer engineer khalifa university',\n",
       " 'studying dillard university dr williams',\n",
       " 'leonel dominic',\n",
       " 'quit paying expensive medical visit fake fix eliminate frustrating nagging constantly repeating low back pain',\n",
       " 'born london grew basildon lived cornwall sea make sense fine',\n",
       " 'signed',\n",
       " 'journalist producer camanpour cnni always open spicy taco view rt endorsement duh',\n",
       " 'curating best medium feed palo alto city http co dtwyrmizau community service medium network supporting social good',\n",
       " 'en webradio music non stop fantastic sci fi movie tv show early present day fr radio sf et fantastique',\n",
       " 'brain bodily organ start working moment awake stop get class',\n",
       " 'ja online gist entertainment news music video event celebrity focus interview life style fashion videodirector mc expy',\n",
       " 'learn new aussiebodysecrets',\n",
       " 'hollow heart',\n",
       " 'hurt let go sometimes seems harder try hold something someone want get away',\n",
       " 'like tweet support work shopping amazon via link thank good person http co ebogxhl r',\n",
       " '',\n",
       " 'magnificent fujoshi scum',\n",
       " 'girl love god pole vaulting lifting reading horseback riding passion country loving small town girl',\n",
       " 'day want world peace day want burn world',\n",
       " 'everything need news crew presence',\n",
       " 'ent est bem sporting clube de portugal',\n",
       " 'living loving electronic dance music scene edm life follow u come say hi see honey next edm festival go',\n",
       " 'real estate global network social network real estate professional',\n",
       " 'island official magical creature omg ask white avi header barnqueenacc r wellbeing ambassador',\n",
       " 'helping build supercomputer one making giant robot anyhow keeping busy send mar tweet cc http co mtenmjd xx',\n",
       " 'train like picked hunger game',\n",
       " 'looking miracle fucking right one jess',\n",
       " 'home school management bcomm program mba program msc innovative research centre core downtown toronto',\n",
       " 'year old married broad makeup artist stylist raising beautiful girl strong beautiful woman wife roughneck',\n",
       " 'capital area food bank texas nonprofit dedicated nourishing hungry people leading community ending hunger',\n",
       " 'creolemixed borninneworleans raisedintexas love god family friend education sleep text food movie music clothes makeup nature animal color',\n",
       " 'pronounced val er http co ezqpnsavnr dedicated livestreamer avid pepsi drinker greenmangaming partner proud member keefcult big wwe fan',\n",
       " 'hi name louanne great fan justin bieber love',\n",
       " 'national security foreign policy editor cqnow pulitzer crisis center grantee former qatar expat medill grad retweets endorsement',\n",
       " 'latest new york ranger buzz',\n",
       " 'writer stoop hen book punk gin writes cash iqmediacorp working nsfwstory foul mouth cyclist',\n",
       " 'ever feeling weak remember strong copilot darklylacquered trine coldconstructed rockdoves',\n",
       " 'ultimate gourmet coffee store espresso whole bean coffee http co u ppcrfrsq http co snem ypeak',\n",
       " 'christian conservative baptist believer constitution founder book business republican theologian historian',\n",
       " 'collective genre specific blog combining like voltron provide best coverage imaginable thefullbleed scifitalk geeklegacy thmatrix',\n",
       " 'got adsense publisher account tool multiply income many time wish http co gbictcktae',\n",
       " 'marinasdiamonds dailymatd already performed v alternative pop lie',\n",
       " '',\n",
       " 'tweeting thing around pennsylvania like enjoy interested twitter marketing save today info nicolamarketing com',\n",
       " 'health nut retired teacher family man programmer developer technician pc cnc entrepreneur god',\n",
       " 'dont need much cuz action character tell kingabdul',\n",
       " 'division ground news canada join friend reading latest gaming news ground',\n",
       " 'weekly nationally syndicated alternative radio newsmagazine timely depth progressive analysis found corporate medium',\n",
       " 'oh oh oh oh',\n",
       " 'latest business advice strategy businessinsider',\n",
       " 'sick lip caramel wan na try bafhouse teamprettypothead perfect balance badass feminie di hempress empress',\n",
       " 'american made jean built leader fit quality style bringing best part fashion world western world',\n",
       " 'experience conflict commentary realism',\n",
       " 'hampton university',\n",
       " 'curating best medium feed cleveland city http co l qvbrl community service medium network supporting civic cause local art',\n",
       " 'owner jlj holding llc real estate consultant owner feel real estate service llc',\n",
       " 'finna lit vancini',\n",
       " 'solar powered sigh machine mostly footy talk',\n",
       " 'insta brownlouise',\n",
       " 'card get everywhere anything anyhow please use credit card wisely please get tip using credit card site',\n",
       " 'czech adult model pornographic actress inch natural breast currently livin london follow retweet every day luv u',\n",
       " 'official city coralville ia government twitter account follows rts endorsement comment info http co gayp dffh',\n",
       " 'tammy r sc kredo x',\n",
       " 'bb official twitter account caution barracuda patrolled water followed dloesch newsbusters governorperry fredthompson twitchyteam chuckwoolery',\n",
       " 'evil conservative obama warned pro palin conservative pro life',\n",
       " 'love jesus miranda lambert jle leopard print little jack coke',\n",
       " 'helped people debt tax estate problem since friendly seem tv experience go anywhere else',\n",
       " 'se un uomo non disposto correre qualche rischio per le sue idee le sue idee non valgono nulla non vale nulla lui cit',\n",
       " 'striving islamic way life right deen sight allah islam',\n",
       " 'full time cruising sailor writer abiding interest book boat sea classic guitar',\n",
       " 'tweet la vega deal share sin city secret along way follow love vega stripdeals gmail com',\n",
       " 'want british justin bieber want first conor maynard conor maynard met joe caspar called babe',\n",
       " 'bambam jyp nation september th park jaehyung called broski',\n",
       " 'creator location education nation premier educational consulting service young performer passion education film theater crime drama',\n",
       " 'onedirection directionerforever criminalminds harmonizer abrahamers afonica soy liam girl ig selly',\n",
       " 'world fastest growing seo small big job service buyer seller meet',\n",
       " 'daily tip motivation healthy lifestyle diet nutrition eat right feel great healthy',\n",
       " 'soco randolph college l hard leave leave easiest goddamn thing world',\n",
       " 'en construcci n literatura lisensiada en estudios ingleses zurda mel mana peligro constante solemnly swear good',\n",
       " 'owner cocker spaniel amateur baker thing nice jam marmalade maker mane chance horse sanctuary owner tr',\n",
       " 'geek gamer writer beard advocate twittermafia',\n",
       " 'jewish federation greater philadelphia mission mobilize financial volunteer resource address community critical priority',\n",
       " 'terrani dad come everybody rastaman',\n",
       " 'find latest job career uk follow tweet',\n",
       " 'curating best medium feed sydney city http co anaoqyuffs community service medium network supporting civic cause local art',\n",
       " 'vcu campus technology store proudly serving vcu student faculty staff providing technology product service roof',\n",
       " 'lover outdoor thing subtly charming geek massage therapist mindful',\n",
       " 'talent board thecandes vp talentculture tchat show co founder co host ta hcs certified hr recruiting writer wannabe drummer grateful father',\n",
       " 'sure fine whatever',\n",
       " 'eo soo seon smol',\n",
       " 'author novel trip aret',\n",
       " 'like buisness',\n",
       " 'writer gay romance gay erotica lgbt literary fiction choose carefully amz http co hr ddu',\n",
       " 'mu pt',\n",
       " 'love like car accident hit fall survive survive love cuz weakness',\n",
       " 'going get tough tough get going',\n",
       " 'formerly leading edelman indonesia public affair across se asia joining http co gscdas september st senior vice president brazil lead',\n",
       " 'featured nfl columnist gameday writer bleacher report former army engineer lover thing sarcasm satire pfwa member',\n",
       " 'matter ups down happy sad moment always gaga saw followed noticed many time',\n",
       " 'phoenix city press',\n",
       " 'swazijive united wife kid order mufc master degree banterology arrogant better red devil ig iam makhubu',\n",
       " 'lay back enjoy life austin cole',\n",
       " 'love singing dancing food painting tom bertram lol awesome like viner go follow varsha nair',\n",
       " 'primo deus god first music',\n",
       " 'curating best medium feed regina city http co lpvxd mnax community service medium network supporting civic cause local art',\n",
       " 'naturally artificially flavoured',\n",
       " 'way baby monitor useful parent baby parent hear sound baby important choose reliable one',\n",
       " 'follow fut io android bargain giveaway use pic legitjaz win giveaway bargain dm want sponsor giveaway',\n",
       " 'vegan married batman simpson metal harsh noise xtapolapometal',\n",
       " 'carla malto iixii',\n",
       " 'classic professor haverford canophile yankee fan occasional gardener onetime sailor',\n",
       " 'hi name kevin dota player germany follow know start streaming',\n",
       " 'world largest affordable seo market place seller buyer freelancer small big job online service meet',\n",
       " 'partner pr firm expertise interest crisis communication management public policy economic development medium tech aviation healthcare',\n",
       " 'hey norman andy dick feel click link find answer',\n",
       " 'instagram oliviamockford',\n",
       " 'time ghost',\n",
       " 'sagi babe',\n",
       " 'walking dead comic tim burton turtle owl harry potter star war hacky sack music life r p mitch lucker rise record street team',\n",
       " 'indianapolis city press',\n",
       " 'brooke writer artist video game fanboy snapchat thequeenbrookie',\n",
       " 'live content curated top urban planning influencers',\n",
       " 'made bird enix weird developing fallow',\n",
       " 'complain get drunk',\n",
       " 'want earn money bitcoin let insider tell',\n",
       " 'muhammad fitri adam',\n",
       " 'latest toronto maple leaf buzz',\n",
       " 'making giant novelty cheque since',\n",
       " 'singer arranger music producer',\n",
       " 'aba instructor grad student couponer deal hunter freebie snatcher blogger iphoneography lover social medium butterfly',\n",
       " 'matter slow go long stop westfield insurance pinnacle sport gobrowns gobucks believeland',\n",
       " 'businessman entrepreneur internet marketer earn single day remarkable new idea free video http co dl kzcvxue',\n",
       " 'wapo national reporter seek truth give voice voiceless shine light darkness consideration minor importance',\n",
       " 'niall horan como respuesta todo larry como ox geno liam mi baby zquad zayn girl',\n",
       " 'ed taylor',\n",
       " 'go survival mode tickled',\n",
       " 'done',\n",
       " 'love manchester united beard bearded red discus everything united check podcast',\n",
       " 'newly married kid everton rule',\n",
       " 'get normani video',\n",
       " 'curating best medium feed belmont city http co hw alqpwg community service medium network supporting civic cause local art',\n",
       " 'update game thing technology related mostly',\n",
       " 'commercial director zignia live member board water happiness',\n",
       " 'fuck dummy',\n",
       " 'abbey gilbert raemorrismusic work progress',\n",
       " 'lyrically driven ska punk reggae east coast check new release sublime one itunes proudly sponsored prsguitars',\n",
       " 'call neighborhood haunt focus great ambiance delicious food classic libation',\n",
       " '',\n",
       " 'nerd wrangler riot game',\n",
       " 'like call writer melanin curl pro woman pro black reader blogger',\n",
       " 'mommy ka leighceriyah',\n",
       " 'came different family biologicaly heart beat one kathniel',\n",
       " 'sportalk sport meet social medium account cover philadelphia eagle join sportalk today get app http co qyommzx df eagle nfl',\n",
       " 'good vibe',\n",
       " 'open eye something beautiful happening al',\n",
       " 'polinema tek informatika basket polinema like basket http co lgxn bgetc',\n",
       " 'quit paying expensive medical visit fake fix eliminate frustrating nagging constantly repeating low back pain',\n",
       " 'love read favourite book series fifty shade grey fan stephen moyer jamie dornan love watching true blood big rookie blue mcswarek fan',\n",
       " 'brand development manager husband new york time bestselling independent author nicoleeauthor',\n",
       " 'bueno hola llamo kevin tengo o viivo en se donde gusta cantarl l u de soii tiimiido add facebook amo mi novi',\n",
       " 'draw filthy stuff',\n",
       " 'big tit picture site',\n",
       " 'swiftie forever always script cat music traveling tennis basketball ice skating play guitar piano ukulele bit',\n",
       " 'incurable tv evangelist',\n",
       " 'relationship survive long term earth would worth time energy short term deal bargain forsale onsale discount',\n",
       " 'learn thing revolution bitcoin opportunity simple way earn money using bitcoin',\n",
       " 'wasted',\n",
       " 'collective genre specific blog combining like voltron provide best coverage imaginable thefullbleed scifitalk geeklegacy thmatrix',\n",
       " 'crazy toy attic crazy truly gone fishing must taken marble away',\n",
       " 'family le influence healthcare compliance triathlete askhcsi',\n",
       " '',\n",
       " 'longwood basketball r p dad portia tony',\n",
       " 'socio legal technologist inventor conset receipt focused personal data control',\n",
       " 'free omb fear allah real demon loose screw',\n",
       " 'semper paratus',\n",
       " 'waiting gandalf come house invite adventure expect return',\n",
       " 'greek god stats espn mikeandmike christ follower moneyball disciple punk rock enthusiast lebanese food connoisseur',\n",
       " 'blogger intermediario assicurativo esperto di pallacanestro livornese tifoso del milan e della libertas livorno webdesigner e webmaster blogger politico',\n",
       " 'hey angel',\n",
       " 'steam little arab insta little arab kik ahmadabed',\n",
       " 'care people think',\n",
       " 'arm leg',\n",
       " 'follow ysk baltimore latest news baltimore maryland area http co doixknlfdp',\n",
       " 'freelance job seo design writing social medium many place buyer seller meet',\n",
       " 'ja online gist entertainment news music video event celebrity focus interview life style fashion videodirector mc expy',\n",
       " 'division ground news canada join friend reading latest gaming news ground',\n",
       " 'please block',\n",
       " 'small town girl convinced born wrong side mason dixon started',\n",
       " 'spooky bisexual teenager intersectional feminist feminist kid',\n",
       " 'offering affordable travel best location',\n",
       " 'official twitter feed eckerd athletics follow u update galore member ssc ncaadii',\n",
       " 'wael abdelkarim',\n",
       " 'u r affiliated nfl san diego charger',\n",
       " 'attorney speaker legal analyst http co gpbrj wa n http co t cihefn',\n",
       " 'second floor tootsies gettin shoulder rub',\n",
       " 'communicator coffee enthusiast infuriatingly humble music nerd subtly charming internet guru alcohol fanatic',\n",
       " 'girl wanting big thing life',\n",
       " 'question',\n",
       " 'leyton orient blogger author promised tattoo face stupid club thanks get lofc',\n",
       " 'card get everywhere anything anyhow please use credit card wisely please get tip using credit card site',\n",
       " 'nois noa precisa de nenhum papel da prefeitura',\n",
       " 'veninataviveci',\n",
       " 'life waiting storm pas learning sing dance rain',\n",
       " 'real estate enthusiast working royal lepage atlantic looking sell purchase tweet away',\n",
       " 'thriller entertain scaring changing password author social engineer invasion privacy http co l pvxnrord',\n",
       " 'music library knarkse gon na lot repeat garbage',\n",
       " 'commercial director zignia live member board water happiness',\n",
       " 'published producer songwriter making wavy music odd plug witthat beat inquires email pianoboytod gmail com',\n",
       " 'anti coming soon',\n",
       " 'kind tall hair wear shirt sometimes building mystery',\n",
       " 'metal hammer deputy editor whatculture wwe goon neeerrrrrrddddd',\n",
       " 'read latest hot news world newsviewsworld',\n",
       " 'aunty nut blog love tea love candle space doodle http co awlemdc ut',\n",
       " 'learn create bestseller amazon audio session tell need know',\n",
       " 'frog k',\n",
       " 'producer kennvad uk http co h dtj kl sevenstudio italy booking info douglas entertainment co uk',\n",
       " 'year supporting hereford united sw well body hereford fc onwards upwards united',\n",
       " 'natural californian',\n",
       " 'actor writer filmmaker father husband gamer fanboy got take rock mics right yeah',\n",
       " 'meant along really',\n",
       " 'bitcoin enthusiast',\n",
       " 'formerly known subway serenade known astral technician currently developing global biofeedback laser tag',\n",
       " 'paper chasin paper runnin paper gunnin paper gettin paper havin paper catchin dont forget paper grab',\n",
       " 'get update whatever happening diymagazine easy feed',\n",
       " 'like boybands reading book bit obsessed emmerdale robron instagram rachelh',\n",
       " 'trust one ripspann talk rihanna kingjames might get yo head bus dreambig amosc phineasandferg',\n",
       " 'curating best medium feed redwood city city http co lemjjzzwxs community service medium network social good',\n",
       " 'get want cause ask really deserving',\n",
       " 'tradition excellence year',\n",
       " 'co host xl primetime xl',\n",
       " 'cool kind confused',\n",
       " 'rose affair dedicated helping poor family could afford medical kid',\n",
       " 'content social medium marketing business brand public figure non profit value online reputation personal voice kerijaehnig socialmedia',\n",
       " 'freejalen llh',\n",
       " 'businessinsider roundup expert partner news outlet across medium landscape',\n",
       " 'allergic cheatin hate failure love achievement',\n",
       " 'take business next level amazon bestseller increase credibility income',\n",
       " 'damn man socially awkward extrovert ig sianchristinak',\n",
       " 'hail moon tell father friend cant lock door cause shes already ig helenkdavishkd life saver manager strainaddicts',\n",
       " 'lover life thing artistic creative beautiful especially people mama hollymorwenna finntalisker',\n",
       " 'traveler writer b b host beer drinker kitty petter independent travel beaten track volunteering http co gqnujjc al',\n",
       " 'artist writer devourer potato art atheism feminism science improv politics game health fam nerdy stuff writing weather minutia',\n",
       " 'living depression trying end stigma poor mentalhealth whitney fan nice watch amateur photographer gay graduate aspiring journalist',\n",
       " 'started web researcher got passion seo working seo analyst sem ppc inbound marketing smo lead generation tweet seo general thing',\n",
       " 'writer lyricist coffee enthusiast world class barista semi pro mixologist mbonisigusto gmail com',\n",
       " 'online writing school top instructor great class affordable price',\n",
       " 'alex ac clifford clarkston varsity bowling srt also pool shark ib class wichita maybe',\n",
       " 'fool fall azul verde ddl zayn troye',\n",
       " 'question follow u let u help product support http co egtge se business support http co mm axaey',\n",
       " 'xo',\n",
       " 'apple freak girl love game',\n",
       " 'life short drive boring car slowg http co kt l amr',\n",
       " 'fight good fight faith lay hold eternal life whereunto thou art also called timothy jesus christ way bachelor degree bible study',\n",
       " 'internet marketing adsense im money youtube tip making money online adsense youtube http co gbictcktae',\n",
       " 'choose happy problem world emison hollstein xena gabrielle',\n",
       " 'hi',\n",
       " 'uknetguide find flight book one hotel around world great deal offer',\n",
       " 'food fanatic incurable troublemaker',\n",
       " 'skateboarding money bml',\n",
       " 'launch book optimize amazon book page increase ranking keep',\n",
       " 'twitter page renfrew county district school board',\n",
       " 'book promotion amazon bestseller program social medium program',\n",
       " 'web marketing expert specializing book promotion',\n",
       " 'pike podcasting est promo music sport lifestyle entertainment politics comic fantasy movie sex debauchery else',\n",
       " 'welcome east public school p e school motto learning start enzo guarnaccia principal',\n",
       " 'connecting people church fellowship grace brother church',\n",
       " 'quit suffer live rest life champion muhammed ali box chadd abc loyalty everything derby season ticket holder',\n",
       " 'project foundation defense democracy followfdd rts favorite following endorsement',\n",
       " 'think second actually care say',\n",
       " 'concern animal welfare h quality specie risk charter right plight wrongly convicted pls visit support http co ilyj mw',\n",
       " 'un fan de football fan du club africain fan du wwe fan du counter strike',\n",
       " 'osceola county rep recording artist pen pimper peace seeker positive vibe pusher ig homelessmillionaire business email allenyorkmusic gmail com',\n",
       " 'follow instagram amandacleghorn taylor swift dancer sytycdc top female',\n",
       " 'deliver apple mac news nearly follower twitter follow u g http co iwja f tg',\n",
       " 'host morning grind morning minneapolis podcast soundcloud http co xew bekf also app lean leftwards',\n",
       " 'make permanent decision temporary emotion',\n",
       " 'different angle http co ndfm burus',\n",
       " 'rose affair dedicated helping poor family could afford medical kid',\n",
       " 'mom currently divorcing comic crohn advocate dr phil social medium contributor member inner circle',\n",
       " 'like fun activity utsa spursnation',\n",
       " 'book promoter',\n",
       " 'book promotion amazon bestseller campaign social medium system',\n",
       " 'catalog change life inspirational motivational metaphysical book program product much much',\n",
       " 'retired sea captain born england eventually emigrated united state continue write enjoyment comfort',\n",
       " 'student university cambridge',\n",
       " 'god first jiggaworld november st clothing line coming soon',\n",
       " 'older think rajna hussain',\n",
       " 'instagram josealejandro skype j',\n",
       " 'provide book promotion amazon bestseller campaign social medium platform',\n",
       " 'clothed strength dignity laugh without fear future proberbs bh senior k free brother codey',\n",
       " 'leading global engineering firm providing professional engineering consulting service leader aerospace automotive energy nuclear sector',\n",
       " 'enjoy weather',\n",
       " 'vendedor de sue o tambien vendo libros',\n",
       " 'instagram briannaamurray',\n",
       " 'professional rock roll accordionist bomber forever',\n",
       " 'get update whatever happening diymagazine easy feed',\n",
       " 'collective genre specific blog combining like voltron provide best coverage imaginable thefullbleed scifitalk geeklegacy thmatrix',\n",
       " 'multi award winning bridal hair make stylist event florist hollywood lash technician',\n",
       " 'latest bostonglobe metro department tweet andyrosen globefinucane jrebosglobe',\n",
       " 'official twitter miami southridge club',\n",
       " 'mayor mizners big kahuna grog grotto level bos player friend finnegan vice president poor judgment crew',\n",
       " 'first greek twitter page cimorelli promos news owned proud fan iownaustinsdick eficimz louu love guy cimfam',\n",
       " 'ryan former cohost get board pod unknown recycle garbage tv lost vhs viewing pleasure',\n",
       " 'leading news source mobile digital health community covering mhealth digitalhealth healthapps subscribe http co bssgljabmf',\n",
       " 'interfaith counselor life coach focus north node astrology spiritual adviser welcome religious faith fold',\n",
       " 'follow cool etsy craft',\n",
       " 'newlos nosecrts ultraslump zona music motion ward',\n",
       " 'follow u get latest news',\n",
       " 'teambelize gemini stapleton eastny ballwaslife',\n",
       " 'support west ham live nz eat macarons support west ham would silent proud husband father gorgeous girl may',\n",
       " 'latest news philadelphia update frequent',\n",
       " 'yea ya man buying mad snack wuts good',\n",
       " 'certified er',\n",
       " 'real music wale fm dab online home big welsh wake niall ruth whats nationradiolive news nationradionews',\n",
       " 'follower jesus christ lover life people enfp starbucks partner',\n",
       " 'kitson flagship store robertson boulevard favorite stop many celebrity hollywood oh offend sorryboutit',\n",
       " 'princeton herald official newspaper city princeton texas visit website call advertise subscribe',\n",
       " 'eat healthy food stay healthy',\n",
       " 'original content producer earn tsu http co jksk av content attracts view',\n",
       " 'indianapolis city press',\n",
       " 'pr professional writer thinker fitness enthusiast football lover angostura rum fc barcelona',\n",
       " 'video production company filming tennessee texas u capturing video story',\n",
       " 'czech adult model pornographic actress inch natural breast currently livin london follow retweet every day luv u',\n",
       " 'official shrewsbury town football club twitter account bringing latest news shrew salop telephone',\n",
       " 'daily update woman blog',\n",
       " 'johnstown tomahawk junior hockey organization proud member north american hockey league',\n",
       " 'another trying hard fit right',\n",
       " 'love connect online amherst wi milwaukee wi dayton oh rudolph wi neenah wi',\n",
       " 'e snapchat juhnior',\n",
       " 'curating best medium feed st louis city http co awasxinsof community service medium network supporting civic cause local art',\n",
       " 'glenoak junior young girl trying make like everybody else',\n",
       " 'private catholic college prep school young men',\n",
       " 'male west midland england spain quality gold chill computer xbox time youtube munkychunky joeysalads ftw',\n",
       " 'blood make related loyalty make family',\n",
       " 'director paid search',\n",
       " 'lel',\n",
       " 'almost never tweet good right',\n",
       " 'intelligent funny narcissistic lazy as introvert math jaguar',\n",
       " 'let anyone tell love love anymore nothing impossible chowan',\n",
       " 'miss shot take wayne gretzsky michael scott',\n",
       " 'bianca heart mind soul',\n",
       " 'cheerleader cat herder den mother',\n",
       " 'blessed',\n",
       " 'news analysis perspective epa regulation climate change policy debate',\n",
       " 'union network entertainment professional coming together work promote collectively team',\n",
       " 'deepfin co owner writer humor sport find magic noles jaguar redsox unf dadlife vaping kappaalphaorder brother',\n",
       " 'jordandivero iaurensmith like one twitter who funny course',\n",
       " 'celebrating abundance th way apple festival wednesday th october tweet sent dig devonport co ordinator te wilmot',\n",
       " 'dj creative director visual artist social medium coordinator influencer stylist youtuber bookroxyayala gmail com instagram officialroxyayala',\n",
       " 'shakespearean ucc alumnus dominican esl teacher musician newark new jersey born raised kean spursnation',\n",
       " 'flock fly hail dolan alla quackbar',\n",
       " 'tweet lego legend ssbm',\n",
       " 'fast easy prescription saving right fingertip',\n",
       " 'tlu pre nursing cowboysnation till day die',\n",
       " 'know mad iv always mad',\n",
       " 'earn bitcoin network http co rya jmlz q sell online advertising simple product great potential use bitcoin fully automated',\n",
       " 'african proudly nigerian fashi n del agricultural scientist change seeker feminist basically rockstar',\n",
       " 'new hampshire maine source news strafford rockingham york county',\n",
       " 'lotion producer songwriter lover fighter hated friend many jlo chris brown teyana taylor jojo lot come god willing',\n",
       " 'president personal spaceflight advisor llc author design engineer',\n",
       " '',\n",
       " 'dedicated bring news digital world',\n",
       " 'swisha splitta',\n",
       " 'phoenix city press',\n",
       " 'writer beautiful unlikely http co v yxqcha mojo collector http co dnchecxj z good thing bad thing',\n",
       " 'god st family boxing muay thai good word action speak louder snapchat vwashington',\n",
       " 'page dedicated martin freeman fan freemartinis join u latest news pic',\n",
       " 'oh good old rebel union nation give damn',\n",
       " 'littlenialler http co j ihq akps',\n",
       " 'source latest news sailing',\n",
       " 'ganking guwop watahpark otf moodyworld',\n",
       " 'ddct',\n",
       " 'louis tomlinson niallofficial love ya man',\n",
       " 'life writing coach proud parent socialist',\n",
       " 'herb gardening proven method grow herb inside outdoors great food tea medicinal herb',\n",
       " 'opinionated like block cry spilled whine',\n",
       " 'wan na save world know',\n",
       " 'sc charli paige',\n",
       " 'happy',\n",
       " 'old account annabellxox locked ffs',\n",
       " 'feminist latina immigrant activist somewhat socialist marxist believe fighting others human civil right united',\n",
       " 'god often speaks christian dior gcb r p',\n",
       " 'rip lovely angel lulu yamil montrico',\n",
       " 'always chef trade chef nature working la rose noire brand manager la rousse food',\n",
       " '',\n",
       " 'openrp lewd non mostly dom male thylacoleo awesome best friend mr samusaran open gf betterackerman shapeshifter straight',\n",
       " 'yahoo answer environment alternative fuel vehicle conservation global warming green living',\n",
       " 'shameless pervert nicholaslister tweet plus bunch extra nsfw perverted loonery',\n",
       " 'official twitter account oh src bringing best news update follow u exec jacksonpye gagewood gracie grahamaidan src',\n",
       " 'quiero un amor bonito de esos que te dan mariposa en el estomago',\n",
       " 'meatless grilling guide live bbq fresh',\n",
       " 'news insight team hallmark business connection hallmark b b unit',\n",
       " 'major league producer produced hunnidroundz inquiry hit hunnidmngt gmail com instagram hunnidroundz',\n",
       " 'law graduate aviation personality pilot view post everthing aviation industry analysis news photo lot follow also gat aero',\n",
       " 'acme body paint jamaica plain friendly knowledgeable quality body shop let u get back road',\n",
       " 'littlenialler',\n",
       " 'littlenialler',\n",
       " 'fuck trapgangent got ta know get know nigga',\n",
       " 'http co j ihq akps littlenialler',\n",
       " 'woman despair ignorance bigotry like talking apparently quite good transteachersmatter',\n",
       " 'moon love child ig majinpeach',\n",
       " 'littlenialler',\n",
       " 'littlenialler http co j ihq akps',\n",
       " 'known many name may know one going marry higashiyama seika d fc',\n",
       " 'fahima born village harlem nyc producer large pacifica radio work consultant adjunct university professor',\n",
       " 'christian true sense term retired entertainer devout hard center democrat avid political junkie',\n",
       " 'traveling boot dancing shoe',\n",
       " 'u based content writer write good stuff',\n",
       " 'blogger reader feminist uk probably listening halsey obsessing twenty one pilot tumblr',\n",
       " 'former cabin crew llb hons sportslaw phd student married boy luca mico writing st book wheelchair user',\n",
       " 'came nothing americus ga carthage tx panola filly philippian',\n",
       " 'lagos',\n",
       " 'till end line',\n",
       " 'littlenialler http co j ihq akps',\n",
       " 'sunset adventure',\n",
       " 'theoretische forschung der naturwissenschaften buchautor schwerpunkt astronomie physik medizin komponist vorwiegend romantische musik',\n",
       " 'clothed strength dignity laugh without fear future proverb ughs class uw madison freshman',\n",
       " 'proud wife american hero combat wounded vet usmc major james frederick wilson supporter human right injustice step mom animal lover hiippy adjacent',\n",
       " 'pessimistic diehard united fan rant lot mufc united',\n",
       " 'rip bean good bad die carry',\n",
       " 'hooper dont descriminate girl welcome',\n",
       " 'james bond put kinda shit love strifechaospain life hisprincess',\n",
       " 'currently playing wzbc fm boston',\n",
       " 'sun music internet radio flowing free demand adult urban alternative featuring four music style buy hear listen',\n",
       " 'ct',\n",
       " 'yahoo answer environment alternative fuel vehicle conservation global warming green living',\n",
       " 'web designer front end developer digital medium enthusiast fitness fan love football travelling mac good cup tea coffee always help',\n",
       " 'nation leading voice underground alternative punk music youth culture print online since follow u news music',\n",
       " 'failure failure try',\n",
       " 'wwu seusayahh',\n",
       " 'artist co founder tripmusicgroup creative director inquiry contact mike p funkyd gmail com ig blacasso x tripmusicgroup',\n",
       " 'believe keep god first thing possible',\n",
       " 'baby could enough',\n",
       " 'social medium junkie love travel photography actor lake lover startup adviser',\n",
       " 'llsd',\n",
       " 'next rated music promoter massive music video artist promotion web design contact info loyaltyloaded com',\n",
       " 'potty mouth blondie gamer wrestling fan soldier little monster bit nerdy',\n",
       " 'herb gardening enthousiast share simple yet practical tip help struggling herb gardener achieve beautiful healthy herb garden year',\n",
       " 'asst professor chief marketing communication officer consultant artist',\n",
       " 'birmingham',\n",
       " 'ceo founder bragg live food life extension nutritionist author health crusader speaker nutrition adviser world leader hollywood star',\n",
       " 'backup page follow page plus instagram reddick reezy snapchat reezy http co wzeghuecbm',\n",
       " 'live milwaukee wi love sport small family ask anything likely give interesting response',\n",
       " 'passionate equality feminism fairness labour member pro corbyn',\n",
       " 'music production dj http co ii ah',\n",
       " 'laid back cat allergic dumb azz people goin joker anger management go ahead test hit mansitchoazzdown',\n",
       " 'yahoo answer environment alternative fuel vehicle conservation global warming green living',\n",
       " 'supply chain management news published daily scm supplychain procurement logistics',\n",
       " 'music inquires verse collabs booking contact johnson isaiah gmail com late night turnt early morning coming soon http co jnq epqjed',\n",
       " 'witnessing jesus preaching teaching saving healing',\n",
       " 'andrea giantsnation',\n",
       " 'tweet latest job offer detroit',\n",
       " 'july unit digital stimulation forget history unit early year community library record label',\n",
       " 'booking feature contact wesley crutcher fiveout phlatlineco crewgq chiraq remix video',\n",
       " 'erin nc im joke http co tfn qzip',\n",
       " 'london put suicide note',\n",
       " 'ceo founder suntex strategic investment ltd private investment banking ps worldwide top world hotel resort',\n",
       " 'enthusiast computing ageek webdesigner webdeveloper softwareengineer beniceandfollowback pin b business',\n",
       " 'organic noshables sundries marketing pr pro instagram organicexpert anitamariegriffin gmail com',\n",
       " 'child god father husband son fan hiphop adidas thunder er giant cardinal stanford rattler famu',\n",
       " 'aunty nut blog love tea love candle space doodle http co awlemdc ut',\n",
       " 'curly boy cheshire reason',\n",
       " 'bocce burger beer twistandsmashd',\n",
       " 'smash arena',\n",
       " 'directioner kalesquad followed alfie deyes quisha beckii photography adict one direction tuber',\n",
       " 'hi gale best friend sorry dmmd opm undertale draw write sometimes monster enthusiast funkmaster r ish',\n",
       " 'part time pirate psychotherapist urban fantasy',\n",
       " 'development somalia medium pr uk tweet opinion disclaimer view reflect employer instagram harbi jama',\n",
       " 'fiance burial host doosintamriel http co iypsgsv z casual tesonline',\n",
       " 'may cool never marching band cool',\n",
       " 'eustache davenport herb gardening enthousiast author enjoy knowledgeable tip revealing article free website',\n",
       " 'extremely amazing auction',\n",
       " 'illustrator michigan snake help im obsessed snake',\n",
       " 'orlando pirate supporter bcom economics graduate financial planner investment banker barclays africa god everything',\n",
       " 'drain pressure swelling amazing family louisto blueyedsnake hazzaboo subtwinklou',\n",
       " 'hotline never bling',\n",
       " 'motion design graphic',\n",
       " 'fuck given zone consider forewarned welcome world u navy japan living rip gz love always cuzzo',\n",
       " 'procannabis propsychedelics antiorganizedreligion multicultural governmentsceptic musician soundengineer outdoorsman longrangeshooting hdmc wtf',\n",
       " 'hmi buzz multimedia company dedicated document haitian american experience',\n",
       " 'support uk withdrawal european union leaveeu voteleave enoughisenough believeinbritain ukip member',\n",
       " 'uncg',\n",
       " 'blue jay fan enjoys great play player team cometogether saveit',\n",
       " 'chase sun',\n",
       " 'follow u latest update job opportunity cricket additional detail working cricket visit website http co tkkwukbslc',\n",
       " 'month thats like year',\n",
       " 'started turn fangirl since joined crazy troyesivan grantgustin r family potterhead coconuterforlife',\n",
       " 'richard rider name autocorrects richard ridiculous openoffice kind say',\n",
       " 'yoke indemfam jordanrealize',\n",
       " 'voiceover extraordinaire key songstress wannabe actress awesome extra mostly try daughter momma raised peace',\n",
       " 'archdrake pilgrim got tired hanging shrine joined shittiest social network ever neutral arbiter meme',\n",
       " 'kid livecalmafrica',\n",
       " 'normal lass trying good person every day adult time treat break real life',\n",
       " 'barbarian',\n",
       " 'america next master chef',\n",
       " 'question bestbuy need support let u know help x',\n",
       " 'food dining tweet http co waiq c r u best bite blog',\n",
       " 'got angel got demon im biggest hypocrite',\n",
       " 'tweeting mufc mufcu mufcu mufcu ireland hli admirer peoplesperson contributor view coybig',\n",
       " 'smile frown',\n",
       " 'chanel',\n",
       " 'ez read hard put',\n",
       " 'hidup hanya sekali hidup lah yg brarti imam zarkasyi',\n",
       " 'christian laugh snorter camping fan hair stylist slightly enchanting alcohol ninja',\n",
       " 'gordon brown eagle scout brown bone',\n",
       " 'author lover antiheroines unapologetic geek brownish smasher smartphones patriarchy roof son raise',\n",
       " 'addicted twitch lirikh shortyh',\n",
       " 'think really funny probably',\n",
       " 'san siro never word say asking stay zaynmalik met benji fede',\n",
       " 'teacher football lover reader',\n",
       " 'red cape coming',\n",
       " 'resource seniorliving industry assistedliving',\n",
       " 'call j lenni lenape reference speculative fiction fantasy writer blogger atozchallenge nanowrimo boutofbooks http co yc ewwtrqt',\n",
       " 'jean pocket',\n",
       " 'callofduty newsbot',\n",
       " 'want help promoting event venue even music release twitter facebook well look please email jay smpromngr co uk info',\n",
       " 'university hertfordshire student',\n",
       " 'wan na know got scar',\n",
       " 'survivor sibling abuse trauma referral therapy sibling abuse survivor national author activist virtual assistant',\n",
       " 'love montrell broadway',\n",
       " 'focus',\n",
       " 'extremely awesome offer',\n",
       " 'candidate mayor stl wrestling boxing muslim book available http co rwjfdidk',\n",
       " 'innovative way earn make money online internet marketing global lottery money market foreign exchange market trading',\n",
       " 'waterloo',\n",
       " 'eye rolling way ppls heart since',\n",
       " 'labor councillor hill shire council manager disability sector',\n",
       " 'lil vegan studying science ig peaparker',\n",
       " 'http co qncpmry',\n",
       " 'live life g teamenvyus fav spam legend follow',\n",
       " 'family soap football tweet soap related enjoy',\n",
       " 'fuck',\n",
       " 'follow teamindy info event local music local business deal interested social medium marketing email teamindy gmail com info',\n",
       " 'u hate anything dont understand try understand thing interested extreme human nature baseball hockey',\n",
       " 'encantan los perros la naturaleza soy buena amiga leal fiel entregada amo leer imaginar pensar',\n",
       " 'teambuck tim sayin love george washington constitution tequila merica known alias steve rogers',\n",
       " 'so band r little mix vamp ed demi shawn teen wolf pll charmed oth glee dylan brien potterhead',\n",
       " 'time warped tyrannosaur',\n",
       " 'slept motivation success making westlake highschool wide reciever',\n",
       " 'final year french study student ligue analyst frenchftweekly gfn france onzeotv scouting analysis general enquiry brendanfrenchfootball gmail com',\n",
       " 'enjoying journey',\n",
       " 'love forever zrg power love overcomes love power world know peace feelthebern',\n",
       " 'face launched thousand subtweets author last call nightshade lounge quirkbooks repped jenniegoloboy',\n",
       " 'hottest retail sale job opening lead updated every minute major city',\n",
       " 'rap artist',\n",
       " 'english bot shalltear bloodfallen overlord mod najenda overlord anime',\n",
       " 'chelsea fc thibaut courtois eden hazard instagram faheembutt',\n",
       " 'professional dancer turned lifestyle blogger loving life color',\n",
       " 'czech adult model pornographic actress inch natural breast currently livin london follow retweet every day luv u',\n",
       " 'hey whats',\n",
       " 'steroline',\n",
       " 'dj producer',\n",
       " 'author podcaster interest include pop culture wwe sport paranormal tweet lot song lyric game',\n",
       " 'south',\n",
       " 'desperate michael follow',\n",
       " 'managing editor http co ep vf kqfk miami dolphin fan since avid ball watcher huskers since',\n",
       " 'blade',\n",
       " 'louisville public school home lion roaring excellence preparing student future',\n",
       " 'airhead lol find somewhere yellow brick road',\n",
       " 'sc princesskathey',\n",
       " 'internet marketing consultant author love seo sem social medium inbound marketing blogging startup follow valpopescu',\n",
       " 'largest multilingual collection real time aviation news',\n",
       " 'oned coldplay so edsheeran thescript bastille http co kpg ux vyk still laughing http co kfpa jo ml',\n",
       " 'simple',\n",
       " 'fine as soul snatcher soft spoken ratchet photographer lover cheese fry snap noti saidthecat',\n",
       " 'love kid mr zil mum dad dog arsenal stoke newington born bred',\n",
       " 'love work alot great relationship friend family great alot fun well',\n",
       " 'parkland la salle university volleyball',\n",
       " 'tom editorial page editor beaumont enterprise always interested going se texas especially anything connected politics',\n",
       " 'bot pesadeli tweet randomizer',\n",
       " 'food mu',\n",
       " 'rest easy carlitos',\n",
       " 'nice guy baha pondering apologetics religion atheism opinion mine may may agree others peace',\n",
       " 'life short even care uofl nursing major k jazmyn twin',\n",
       " 'quiet artful dodger lefty bucn letsgopens steelersnation mufc dubnation',\n",
       " 'http co b tphsvqmj',\n",
       " 'freelance photographer owner editor online newspaper catch instagram youtube username',\n",
       " 'live sunny wilmington nc ambassador wilmington chamber commerce husband also second home suburb pittsburgh',\n",
       " 'much everything vice music film tv writing photography blogging social medium technology radio sport',\n",
       " 'match business need help social medium mum trained social medium manager featured guardian mailonline',\n",
       " 'tweet http co oj zivzny mp best seller new release genre participant amazon eu associate programme',\n",
       " 'developing software qt qml io android blackberry tizen linux osx etc',\n",
       " 'allah obey messenger mercy upon ali imran',\n",
       " 'love marketing writer former airline pilot health exercise nut work infusionsoft founder http co tmcmikt r view',\n",
       " 'publishing original work author guilty pleasure',\n",
       " 'drawing drawing drawing',\n",
       " 'mit data science start developing advanced analytics based intuitive data flow technology',\n",
       " 'comic book head dick small identify big dick nigga transbigdick live cleveland beat occasion eat as',\n",
       " 'syracuse ig chipndale',\n",
       " 'helping create marketing campaign recognised originality value driven tweet joshchandler',\n",
       " 'fwc street wear ig liljaysoicy',\n",
       " 'freedom looting',\n",
       " 'gifted talented admistrator environmental science artist gardener son born raised new orleans gone global',\n",
       " 'serve least give least go saved matthew',\n",
       " 'sleeping dream maeve see feel sweetest relief imaginable',\n",
       " 'husband father grandfather',\n",
       " 'free spirit wild heart',\n",
       " 'great white shark',\n",
       " 'videogaming relapsed pacaddict mahjong playing tv watching window phone loving progressive pro electoral reform cyborg creature',\n",
       " 'muslim football ynwa liverpool gerrard thanksstevie kop kopites aboutrika jan anticoup palestine syria',\n",
       " 'highly imposing review',\n",
       " 'ant man enough giant man figure make tough enough someday invent another persona',\n",
       " 'trans gay feminist thanks contributor gww reviewer newsarama hit ck cucco gmail com icon eiffelart',\n",
       " 'penn state grad architect designer',\n",
       " '',\n",
       " 'fue en ese entonces cuando dej de huir porque di cuenta de que era la nica que segu',\n",
       " 'listener find real job half man shade shy older lady ig keneamazu',\n",
       " 'bot post tribute befitting god deathmtn banner metroidbaby powered wordnik',\n",
       " 'everything okay coolio bean',\n",
       " 'performance partner control',\n",
       " 'ronzoni leading pasta brand providing healthy meal entire family',\n",
       " 'downtown orlando premier nightclub entertainment complex music venue year formerly named firestone live tweet u info show',\n",
       " 'one man love thing geek',\n",
       " 'buzzbuzzhome improving way people search new construction home queen bee buzzbuzzhome',\n",
       " 'kumpulan berita terkini',\n",
       " 'rona largest canadian distributor retailer hardware home renovation gardening product rona',\n",
       " 'ceo founder louis espinoza came back musician musician record label musician rock avenue record usa created',\n",
       " 'biology student university hull love football arsenal fc',\n",
       " 'decide',\n",
       " '',\n",
       " 'atheist sport fan metalhead',\n",
       " 'accident crime scene reconstructionist love animal support several animal rescue charity',\n",
       " 'southbayla scumbags chico',\n",
       " 'wavy',\n",
       " 'community builder connector rescue dog collector ucla er whiskey taco tech doer thing ga la dtla grid',\n",
       " 'never give meeting sunshine happen even dont think',\n",
       " 'page dedicated amazing presenter host interviewer rayascoop',\n",
       " 'set raise man glory',\n",
       " 'god within fail',\n",
       " 'writer focus sport sport law gender sport work found vicesports deadspin knbr fangraphs among others find hangingsliders gmail',\n",
       " 'god first living beyond status inspirational existence teamusher teamlh teamscorpio',\n",
       " 'sofo',\n",
       " '',\n",
       " 'digital assistant blogger interested luxury fashion sustainable design dimplesblog hotmail co uk',\n",
       " 'san diego',\n",
       " 'father awesome son canadian men team supporter forever loyal leaf fan tfc l pa voice solely opinion',\n",
       " 'relation life long detroiter rts endorsement huffpostpol editorial fellow michiganstateu spartan',\n",
       " 'snatch girl trippin line like fishing snapchat dcd',\n",
       " 'escribe en milenio esquirelat letras libres stargazer en este negocio si tienes fama de monstruo eres una estrella want pop idol',\n",
       " 'editor beauty guide cityline beauty expert',\n",
       " 'baby perfect',\n",
       " 'com aviation specialises recruiting highly skilled aviation aerospace professional aviation job within design maintenance repair',\n",
       " 'tweet relating ge general election',\n",
       " 'sick want different',\n",
       " 'love surfing taking care dog photographer full time online marketer',\n",
       " 'fitness fairy godmother nasm certified trainer award winning writer lb lost tkoed wife sneeze blog post get sicker fitfluential',\n",
       " 'kent state psychology major tri valley class',\n",
       " 'germany band tv show youtubers',\n",
       " 'meh',\n",
       " 'huge fan doctor reader book writer stuff future novelist full time procrastinator really mad woman pen',\n",
       " 'd news reddit',\n",
       " 'thedalailama gsu statenotsouthern chemistry',\n",
       " 'hertfordshire',\n",
       " 'cumberbitch cumbercollective account benedict sherlock going find boring saw hamlet oct',\n",
       " 'follow instagram misbritbrit',\n",
       " 'stop drinking captain morgan put foot proud sweetheart kb philadelphia esu',\n",
       " 'gabriel aka frosting angel surprised vessel diabetes yet vesselofamoose sexy angel spn rp comicalhalfling',\n",
       " 'base belong u',\n",
       " 'visit benicia great day bay',\n",
       " 'advocate thing natural lover rich soil food old school flock redefining iconic american farm sharing design beauty bounty',\n",
       " 'name actually nancy',\n",
       " '',\n",
       " 'pete pigeon superheroes',\n",
       " 'turning dream reality allglorytogod wccc petroleum oil technology',\n",
       " 'http co rgtv drj',\n",
       " 'one adorkable warcraft player lil m f ckin sunshine gim beard geek cat coffee n bacon yes awesome farted oh pirate joopiter',\n",
       " 'guy thing one time stuff like skype vusi manana ig rev nana',\n",
       " 'world fastest growing seo small big job service buyer seller meet',\n",
       " 'thisschmoney myfamily',\n",
       " 'din navajo native american american indin american',\n",
       " 'walking away instagram gpeternity',\n",
       " 'evoluci n',\n",
       " 'czech adult model pornographic actress inch natural breast currently livin london follow retweet every day luv u',\n",
       " 'illustrator artist designer author http co zami pcv tip advice freelancer infoartblog graphictide',\n",
       " 'mermaid dont homework',\n",
       " 'iraq iraqi armenian http co k rxgfrwpl',\n",
       " 'disciple husband father son pastor author fb http co vtyonb cz teamjesus kingdomcovenant hypergrace navyvet',\n",
       " 'currently bun time humanproblems',\n",
       " 'tweet inspiring fun unusual extraordinary thoughtful delicious relevant livereal livepositive craphappens persevere happinessexists',\n",
       " 'christ follower husband dad pastor love local church leadership toronto maple leaf fan judge',\n",
       " 'rip carterrio johnson',\n",
       " 'favs markiplier jack septic eye stevoptweets bubblebutt c markipliershero septicarmy meowipliersquad dayyss x',\n",
       " 'phd student political theory vice freelancer newfoundlander exile write canada stuff pic courtesy fogtownfemme',\n",
       " 'hi based hertford interested working home help others achieve learn http co h htrnyj',\n",
       " 'geek dad husband geopolitical photography coin car financials foodie pro family pro military pro capitalism pro america',\n",
       " 'job dvr watcher mitsubishi driving burger lovin jordan buying wooooooo coolest daddy world ever seen wooooooo elbow drop',\n",
       " 'covering latest news area science tell u think weekly scientific invention discovery',\n",
       " 'mechanical mechatronic engineer binge watcher meantime tech news addicted pgp http co tliufa',\n",
       " 'hi let friend',\n",
       " '',\n",
       " 'hello time lord aged proud working class year old dog called muttley died rd june rip refugeeswelcome',\n",
       " 'primeonly online surplus electronics power adapter computer part laser optic industrial control beekeeping supply new u seller',\n",
       " 'hustlerneur frg foreign',\n",
       " 'wsu',\n",
       " 'king eric cantona time ysb',\n",
       " 'sport writer capital baltimore sun medium group stadium journey ny jet yankee terps marist columbia md via nj w wife daughter border terrier',\n",
       " 'paradigm hifter follow yourbeautybliss order iconoclast http co ybodpzsuja',\n",
       " 'highly plusher deal',\n",
       " 'dah vy multimedia artist pianist http co wbwnqj iwt',\n",
       " 'want ask accomplish given new limitless possibility existing beyond scope meagre reality',\n",
       " 'excuse got spelling test',\n",
       " 'dreamer loving life goodness people like live countryside encircled pet write poem read life',\n",
       " 'wait meet lil princess feb th',\n",
       " 'reptile lover owner custom handmade decor reptile check etsy shop message u question order',\n",
       " 'assassin creed news reddit',\n",
       " 'get free bitcoins http co bn sdbjb btc faucet',\n",
       " 'hull band n eminem',\n",
       " 'resume http co qq olv qpl',\n",
       " 'charles francis meditation teacher huffpost blogger author mindfulness meditation made simple guide finding true inner peace quote love',\n",
       " 'gay ny costa rican guatemalan',\n",
       " 'theopaphitis sbswinners sbsmonthlywinner ranked th uk review online pmlunch fblikehour host seen madeinleeds',\n",
       " 'loveahappyending lifestyle magazine contributor uk u canada lahe',\n",
       " 'sina costume artist singer chief editor cohakumagazin german ambassador scg',\n",
       " 'deb n hair salon award winning hairdressing loreal colour trophy regional final winner stylist rikki theodosi instagram rikkitheodosi',\n",
       " 'sorry lame username',\n",
       " 'hi sindy love ulzzang gyaru fashion makeup circle contact coffee',\n",
       " 'update news upcoming event confboardofcda live tweet event',\n",
       " 'take back basic simple life',\n",
       " 'johnstown tomahawk junior hockey organization proud member north american hockey league',\n",
       " 'product grace search everyday grace sometimes sassy mostly southern woman love jesus life laughter latte extj',\n",
       " 'lancashire music station fm chorley fm preston south ribble fm blackburn darwen hyndburn snapchat thebeeradio',\n",
       " 'alt writing twitter internet superstar lord daddy dont follow plz anything spicy personal main twitter live',\n",
       " 'ilona horvath business woman musician artist kind let beauty melt soul',\n",
       " 'maried tanya daughter shaunie chantel shanice also two grandson rylie kayne',\n",
       " 'rough tasteless',\n",
       " 'youtuber gamer boyfriend got life',\n",
       " 'still rip dad',\n",
       " '',\n",
       " 'love fuck lot straight lesbian boy girl welcomed follow dm contact',\n",
       " 'director global brand business development mullenlowegroup former yacht queen intersailclub',\n",
       " 'alex cena financial analyst equity research professional institutional investor avid outdoorsman photographer',\n",
       " 'tweet dumb stuff including limited superheroes tokusatsu anime walking dead robits video game total loser',\n",
       " 'president founder propheta communication inc manhattan based public relation agency team bridge gap perception reality',\n",
       " 'basically cure world problem erectile dysfunction',\n",
       " 'trying refigure thing fishery marine ucdbc',\n",
       " 'official account st pancras international destination station transport dining shopping art culture',\n",
       " 'teamstupidaf teamskinnyaf teamdrinkspiritonsundaytogetspiritual teamgetdrunktweetwakeupdelete teamdontcare teamsupport teammafisi teamhigh teamteam',\n",
       " 'crowdsourcing innovation finnd connects fed govt industry academia solve hard problem overcome obstacle contracting process',\n",
       " 'crazy one misfit rebel troublemaker',\n",
       " 'member haunted event uk team global cpfp manager ppg pmc',\n",
       " 'lover fighter networker thing men',\n",
       " 'bang thy head rock thy beard circle thy pit hoist thy ale rejoice also drink beer vocal allfatheruk',\n",
       " 'moses make tea hebrew',\n",
       " 'personal assistant website admin wildoutcrewgh crazy love bae favorite',\n",
       " 'rep summer club zante live night remember never forget view',\n",
       " 'stay focused extra sparkley chs',\n",
       " 'five hospital florida hospital largest hospital system serving volusia flagler county resident',\n",
       " 'alex g rard draw badass cute thing get touch contact icybomb',\n",
       " 'thought atheist realized god',\n",
       " 'professional footballer qprfc nikeuk athlete co founder excelracing co founder ca football course proud dad',\n",
       " 'holland enterprise freak harvick periscope dad nascar harvicknation thecup thewin cowboy trojan bama dodger thankatruck',\n",
       " 'staff columnist toronto star write saturday news mon wed five neat guy opinion page email hmallick thestar ca',\n",
       " 'football enthusiast mufc redarmy bastian schweinsteiger manchesterisred',\n",
       " 'growth hacker nerd online marketing manager vionelfilm vionel also foodie gym junkie notorious traveler blog http co omol oqmj',\n",
       " 'blackfish born prairie heart ocean tilikum kiska freelolita tweet taiji seashepherd opgrindini',\n",
       " 'peace life love freedom music r p ashley mccrae r p kk jetlife snobmob tde tgod highpointe allcaps instagram m kushington',\n",
       " 'chair peopleslobbyusa vicar firsttrinitychi tweeting progressive politics global political economy snarky theology miley cyrus',\n",
       " 'say say gone',\n",
       " 'professor philosophy city university new york',\n",
       " 'die wan na go hell cause piece shit hard fucking tell',\n",
       " 'deltek govwin solution designed specifically gov contractor aiming grow business win contract',\n",
       " 'yearsold',\n",
       " 'perhaps insanity see life rather cervantes',\n",
       " 'humanely reducing cat population via tnr serving model mentor community vision ending euthanasia cat shelter',\n",
       " 'regelmatig nieuwe tip foto video inspirerende quote eigenaar van cadeaus nl tshirt nl',\n",
       " 'twitter page missional community river city church',\n",
       " 'hi everyone machinima partnered youtube http co fx frbwkq sub twitch dolphin dive pro cambridgeshire',\n",
       " 'defender secular space feminist sometimes writer sometimes reader',\n",
       " 'glad live world october',\n",
       " 'ibm system middleware hardware built today digital economy follows ibm social computing guideline maintained catnickery skatzenmaier',\n",
       " 'treat like harry style would treat',\n",
       " 'puertorican love dance play guitar music mean lot',\n",
       " 'chs senior thespian',\n",
       " 'never work alone',\n",
       " 'arsenal theozilan manuel lanzini marc bartra adam lallana enthusiast',\n",
       " 'sing band nascum engadget reporter gingercaster gingercast cat lord',\n",
       " 'strafford high school located strafford mo',\n",
       " 'like imperfect poem incomplete piece art flawed still flawless access nj lj',\n",
       " 'sharkwave mine',\n",
       " 'alphacrew',\n",
       " 'official twitter account purdue university',\n",
       " 'sahmama trying figure go slimming world stone loser weightloss pblogger dash autism thrown fun',\n",
       " 'technology news blog http co kr fg e u',\n",
       " 'suffer much pep needed pep outlet love genre fiction tv analysis liberal politics wine contributor http co laglmkjkkm',\n",
       " 'god madridista',\n",
       " 'account trying keep track everything happens popular subreddits reddit bit simply post others post reddit',\n",
       " 'luxury good store featuring watch leather silver jewellery gun rifle maker bruton street w j qx',\n",
       " 'happy wife mom blogger functioning jesus coffee',\n",
       " 'inspiritangelbabyarmyboicestarlight tionlovelyzstan',\n",
       " 'structural biology bioinformatics cephalopod felid comic butt team gay team poly',\n",
       " 'pdx portland state university student recording connection',\n",
       " 'trix kid',\n",
       " 'marketing http co il mj xzsq work globally recognized company deltek pet fish passion flying boating awesome life',\n",
       " 'wsra association recycling professional work expand knowledge enhance skill advance career member',\n",
       " 'bitter iris west stan iwds',\n",
       " 'growing marginal crop poor land',\n",
       " 'little danger eye wan na know plan maronitheboss call babe maturecontent rp reckless gotham',\n",
       " 'entertainer enetepreneur event consultant super model sanguine adventerous professional dancer creative',\n",
       " 'vi vi r call maybe two dad queria rica http co pygqy sfx nat bea vic',\n",
       " 'struggle build break',\n",
       " 'god love yoga health luxury washingtonian chicago hoya bison trying balance lawyer half yogini half',\n",
       " 'kind big deal',\n",
       " 'simple running chic line simple like life simple life race comfortable',\n",
       " 'http co vb yj e',\n",
       " 'basically phan trash tweet random shit k bye',\n",
       " 'friendly exciting pop music forum discus pop music culture join today get access free downloads',\n",
       " '',\n",
       " 'wife colin mama daniel kyle joshua reg blogger amateur photographer teaching assistant reader teaching student painter',\n",
       " 'tweet relating ge general election',\n",
       " 'runner cyclist reader book lover animal beer connoisseur vegan',\n",
       " 'demon swordsman makaalbarn mrcoolguysoul everything used drown sadness look towards tomorrow sserp multirp',\n",
       " 'lightskin princess mixed chick fifteen proving wrong ashtin cade foulger',\n",
       " 'entrepreneur networkmarketing professional twitter instagram marketing coach beginner guide twitter recruiting http co olk yk zc',\n",
       " 'designer web professional internet fangirl netflix addict',\n",
       " 'otrapink grade c c caca disgusting',\n",
       " 'dundee home away dtid',\n",
       " 'mean girl',\n",
       " 'probably somewhere jennaaucoin stfx',\n",
       " 'play call duty odinesports lan nerve hankzy bae',\n",
       " 'ignatius l donnelly associate professor old weird american secret canadian gilded age digital geek gaming big alternate two fisted history',\n",
       " 'sing supper',\n",
       " 'yeah sorta jazzy red sox patriot bruin terps',\n",
       " 'top gun elite u south lake',\n",
       " 'win learn never lose',\n",
       " 'white girl phenomenon guide thephenomenalee youtube vlogger training super smash brother addict college senior',\n",
       " 'homemade cake jar est june sierrassweetlayers ssu',\n",
       " 'specialising digital pr affiliate marketing brand collaboration follow u instagram http co ldykjrnwvs',\n",
       " 'lover life lover christ',\n",
       " 'graphic mostly im bored im playing watching streamerino yo scandinavian',\n",
       " 'embarque expresso de hogwarts com gente desde',\n",
       " 'scorpio season among u shadesofshe',\n",
       " 'destiny game news reddit',\n",
       " 'technology news blog http co kr fg e u',\n",
       " 'year young montreal piece john abbott college',\n",
       " 'liltunechi malekrose izzoland aubreerose panama maxb gunzworld lilly lebron ava',\n",
       " 'full time dreamer vibe master',\n",
       " 'best thing life unseen close eye kiss laugh dream',\n",
       " 'analyzing dream year use psychoanalytic technique jung freud etc dream alcoholism addiction ptsd recovery issue',\n",
       " 'viajes trave de aventura medida en bolivia expediciones x amplia experiencia en manejo road en la amazon el altiplano dakar overland',\n",
       " 'find local hookup casual sex discreet affair',\n",
       " 'badlandsgrl shypunks ur chocolate donut',\n",
       " 'color comic',\n",
       " 'donorhut make fundraising easy best free safely securely accept donation online directly bank account',\n",
       " 'award winning producing theatre belfast month conor mcpherson nightalive oct',\n",
       " 'meh',\n",
       " 'northwelland business improvement area home thriving diverse blend retailer restaurant service canada vibrant rose city',\n",
       " 'rt mean love two favorite thing commitment changing expert fuck constitution say constitution',\n",
       " '',\n",
       " 'hard rock band gulf coast usa new adrift e p soon',\n",
       " 'o rock erreap la felicidad e una carta de la baraja itsirenneg instagram sergiiip snap sergiiip',\n",
       " 'offering artist audience unprecedented opportunity artistic exploration collaboration big ear return march april',\n",
       " 'cpa business owner writes every day small business public policy washington post weekly forbes inc huffpo entrepreneur',\n",
       " 'born sweet delight born endless night herehavemyheart little lamb',\n",
       " 'youngstown warren urban radio station',\n",
       " 'intermountain region sport comment sociopolitical issue dislike major party veteran advocate reform vamc utpol natsec',\n",
       " 'body made video game',\n",
       " 'tune theboxshowng sat pm rainbow fm lag wed pm sapientia fm onitsha friday caritas fm enugu pm bca radio abia pm ksmc kaduna pm',\n",
       " 'block la familia wash hts help get son p get maury flow maury show',\n",
       " 'pizza',\n",
       " 'dogecoin k n dohjkoyn code doge symbol litecoin derived cryptocurrency featuring shiba inu doge internet meme',\n",
       " 'bite sv rp telekinetic bitch',\n",
       " 'art nashville chicago inquiry dopejustin gmail com',\n",
       " 'tweet relating ge general election',\n",
       " 'nothing better knowing lord show endless love uiw volleyball',\n",
       " 'gay best choice ever didnt make',\n",
       " 'feel bern',\n",
       " 'ce health career connects exceptional nurse excellent hospital',\n",
       " 'tweeting politician police govt local govt else listen opinion question may necessarily reflect actually think lol',\n",
       " 'creative entrepreneur spirit motto dream life endless possibility decide outcome',\n",
       " 'eastbourne england',\n",
       " 'burning highway skyline sound pulled gravity saved wonder contractually obliged point opinion blah blah',\n",
       " 'soonrmt legend introvert ptosis japan korea ph louis tomlinson everything teejaymarquez babe ig ohmyjeney',\n",
       " 'official twitter page governor simcoe secondary school follow u always informed redcoat news upcoming event house',\n",
       " 'official twitter northern rail train service monday saturday sunday',\n",
       " 'like pussy like pussy nigga like pussy girl love pussy hail vagina vstate r l mpir',\n",
       " 'psychic reader healer pastlives health fitness astrology loving ufo light advice e book avail http co lzw wugzq',\n",
       " 'made enjoyment',\n",
       " 'cushman wakefield global leader commercial real estate service helping client transform way people work shop live welcometocw',\n",
       " 'atheist progressive lover deep dish pizza',\n",
       " 'employed educated blessed',\n",
       " 'tv live online host ginx itn disney challenge youtube http co x xjxgpc instagram http co igen ov ne',\n",
       " 'exo strong boy wu yi fan xiao lu always support mblaq ot love madtown let friend',\n",
       " 'making ordinary spectacular since auckland based photographer specialising long exposure check facebook instagram px',\n",
       " 'boston sport cheap beer good time viva blocked jimirsay mikesilver darrenrovell barthubbach rdleggreg',\n",
       " 'design editor thelantern journalism international relation pre law',\n",
       " 'actualhowell sticking ur faves hand as friendshipgoals',\n",
       " 'love family discus idea paradise right hell left',\n",
       " 'megan fox halsey b',\n",
       " 'golden',\n",
       " 'common sense gift punishment deal everyone',\n",
       " 'creative director visual artist brand builder co founder semibig popslice founder day art father bespoke watch project',\n",
       " 'long story',\n",
       " 'fashion student follow excuse kimself email celinek contact gmail com blacklivesmatter',\n",
       " 'anarcho hipster j community organizer creator nodeconf jsfest community linux node j foundation',\n",
       " 'sometimes see forest tree',\n",
       " 'location since daily racing form magazine sport tip sheet much comebyandsaurus',\n",
       " 'pushing away pulling towards',\n",
       " 'bgsu',\n",
       " ...]"
      ]
     },
     "execution_count": 23,
     "metadata": {},
     "output_type": "execute_result"
    }
   ],
   "source": [
    "tweets_list"
   ]
  },
  {
   "cell_type": "code",
   "execution_count": null,
   "metadata": {
    "id": "hG4Uy5Dt2iBk"
   },
   "outputs": [],
   "source": [
    "twitter_data.gender = [1 if i == \"female\" else 0 for i in twitter_data.gender]"
   ]
  },
  {
   "cell_type": "code",
   "execution_count": null,
   "metadata": {
    "colab": {
     "base_uri": "https://localhost:8080/",
     "height": 206
    },
    "id": "ELOB97nj2ayP",
    "outputId": "5e55ee50-9065-4576-97ae-0da01cf1ce17"
   },
   "outputs": [
    {
     "data": {
      "text/html": [
       "\n",
       "  <div id=\"df-5a66e6c8-27ea-4b2f-9150-f3a07fa78028\">\n",
       "    <div class=\"colab-df-container\">\n",
       "      <div>\n",
       "<style scoped>\n",
       "    .dataframe tbody tr th:only-of-type {\n",
       "        vertical-align: middle;\n",
       "    }\n",
       "\n",
       "    .dataframe tbody tr th {\n",
       "        vertical-align: top;\n",
       "    }\n",
       "\n",
       "    .dataframe thead th {\n",
       "        text-align: right;\n",
       "    }\n",
       "</style>\n",
       "<table border=\"1\" class=\"dataframe\">\n",
       "  <thead>\n",
       "    <tr style=\"text-align: right;\">\n",
       "      <th></th>\n",
       "      <th>gender</th>\n",
       "      <th>description</th>\n",
       "    </tr>\n",
       "  </thead>\n",
       "  <tbody>\n",
       "    <tr>\n",
       "      <th>0</th>\n",
       "      <td>0</td>\n",
       "      <td>i sing my own rhythm.</td>\n",
       "    </tr>\n",
       "    <tr>\n",
       "      <th>1</th>\n",
       "      <td>0</td>\n",
       "      <td>I'm the author of novels filled with family dr...</td>\n",
       "    </tr>\n",
       "    <tr>\n",
       "      <th>2</th>\n",
       "      <td>0</td>\n",
       "      <td>louis whining and squealing and all</td>\n",
       "    </tr>\n",
       "    <tr>\n",
       "      <th>3</th>\n",
       "      <td>0</td>\n",
       "      <td>Mobile guy.  49ers, Shazam, Google, Kleiner Pe...</td>\n",
       "    </tr>\n",
       "    <tr>\n",
       "      <th>4</th>\n",
       "      <td>1</td>\n",
       "      <td>Ricky Wilson The Best FRONTMAN/Kaiser Chiefs T...</td>\n",
       "    </tr>\n",
       "  </tbody>\n",
       "</table>\n",
       "</div>\n",
       "      <button class=\"colab-df-convert\" onclick=\"convertToInteractive('df-5a66e6c8-27ea-4b2f-9150-f3a07fa78028')\"\n",
       "              title=\"Convert this dataframe to an interactive table.\"\n",
       "              style=\"display:none;\">\n",
       "        \n",
       "  <svg xmlns=\"http://www.w3.org/2000/svg\" height=\"24px\"viewBox=\"0 0 24 24\"\n",
       "       width=\"24px\">\n",
       "    <path d=\"M0 0h24v24H0V0z\" fill=\"none\"/>\n",
       "    <path d=\"M18.56 5.44l.94 2.06.94-2.06 2.06-.94-2.06-.94-.94-2.06-.94 2.06-2.06.94zm-11 1L8.5 8.5l.94-2.06 2.06-.94-2.06-.94L8.5 2.5l-.94 2.06-2.06.94zm10 10l.94 2.06.94-2.06 2.06-.94-2.06-.94-.94-2.06-.94 2.06-2.06.94z\"/><path d=\"M17.41 7.96l-1.37-1.37c-.4-.4-.92-.59-1.43-.59-.52 0-1.04.2-1.43.59L10.3 9.45l-7.72 7.72c-.78.78-.78 2.05 0 2.83L4 21.41c.39.39.9.59 1.41.59.51 0 1.02-.2 1.41-.59l7.78-7.78 2.81-2.81c.8-.78.8-2.07 0-2.86zM5.41 20L4 18.59l7.72-7.72 1.47 1.35L5.41 20z\"/>\n",
       "  </svg>\n",
       "      </button>\n",
       "      \n",
       "  <style>\n",
       "    .colab-df-container {\n",
       "      display:flex;\n",
       "      flex-wrap:wrap;\n",
       "      gap: 12px;\n",
       "    }\n",
       "\n",
       "    .colab-df-convert {\n",
       "      background-color: #E8F0FE;\n",
       "      border: none;\n",
       "      border-radius: 50%;\n",
       "      cursor: pointer;\n",
       "      display: none;\n",
       "      fill: #1967D2;\n",
       "      height: 32px;\n",
       "      padding: 0 0 0 0;\n",
       "      width: 32px;\n",
       "    }\n",
       "\n",
       "    .colab-df-convert:hover {\n",
       "      background-color: #E2EBFA;\n",
       "      box-shadow: 0px 1px 2px rgba(60, 64, 67, 0.3), 0px 1px 3px 1px rgba(60, 64, 67, 0.15);\n",
       "      fill: #174EA6;\n",
       "    }\n",
       "\n",
       "    [theme=dark] .colab-df-convert {\n",
       "      background-color: #3B4455;\n",
       "      fill: #D2E3FC;\n",
       "    }\n",
       "\n",
       "    [theme=dark] .colab-df-convert:hover {\n",
       "      background-color: #434B5C;\n",
       "      box-shadow: 0px 1px 3px 1px rgba(0, 0, 0, 0.15);\n",
       "      filter: drop-shadow(0px 1px 2px rgba(0, 0, 0, 0.3));\n",
       "      fill: #FFFFFF;\n",
       "    }\n",
       "  </style>\n",
       "\n",
       "      <script>\n",
       "        const buttonEl =\n",
       "          document.querySelector('#df-5a66e6c8-27ea-4b2f-9150-f3a07fa78028 button.colab-df-convert');\n",
       "        buttonEl.style.display =\n",
       "          google.colab.kernel.accessAllowed ? 'block' : 'none';\n",
       "\n",
       "        async function convertToInteractive(key) {\n",
       "          const element = document.querySelector('#df-5a66e6c8-27ea-4b2f-9150-f3a07fa78028');\n",
       "          const dataTable =\n",
       "            await google.colab.kernel.invokeFunction('convertToInteractive',\n",
       "                                                     [key], {});\n",
       "          if (!dataTable) return;\n",
       "\n",
       "          const docLinkHtml = 'Like what you see? Visit the ' +\n",
       "            '<a target=\"_blank\" href=https://colab.research.google.com/notebooks/data_table.ipynb>data table notebook</a>'\n",
       "            + ' to learn more about interactive tables.';\n",
       "          element.innerHTML = '';\n",
       "          dataTable['output_type'] = 'display_data';\n",
       "          await google.colab.output.renderOutput(dataTable, element);\n",
       "          const docLink = document.createElement('div');\n",
       "          docLink.innerHTML = docLinkHtml;\n",
       "          element.appendChild(docLink);\n",
       "        }\n",
       "      </script>\n",
       "    </div>\n",
       "  </div>\n",
       "  "
      ],
      "text/plain": [
       "   gender                                        description\n",
       "0       0                              i sing my own rhythm.\n",
       "1       0  I'm the author of novels filled with family dr...\n",
       "2       0                louis whining and squealing and all\n",
       "3       0  Mobile guy.  49ers, Shazam, Google, Kleiner Pe...\n",
       "4       1  Ricky Wilson The Best FRONTMAN/Kaiser Chiefs T..."
      ]
     },
     "execution_count": 25,
     "metadata": {},
     "output_type": "execute_result"
    }
   ],
   "source": [
    "twitter_data.head()"
   ]
  },
  {
   "cell_type": "markdown",
   "metadata": {
    "id": "TMZIPTYAvice"
   },
   "source": [
    "# Machine Learning Model"
   ]
  },
  {
   "cell_type": "markdown",
   "metadata": {
    "id": "Da4cV0766S50"
   },
   "source": [
    "# Bag of words"
   ]
  },
  {
   "cell_type": "markdown",
   "metadata": {
    "id": "BSUxHqTq0W7r"
   },
   "source": [
    "Bag of Words"
   ]
  },
  {
   "cell_type": "code",
   "execution_count": null,
   "metadata": {
    "colab": {
     "base_uri": "https://localhost:8080/"
    },
    "id": "5UqRyReC162u",
    "outputId": "fda34abb-b6a8-4330-96aa-9d1fba3151ad"
   },
   "outputs": [
    {
     "name": "stdout",
     "output_type": "stream",
     "text": [
      "1000 most common words: ['account', 'action', 'activist', 'actor', 'actress', 'add', 'addict', 'addicted', 'adult', 'adventure', 'advertising', 'advice', 'advisor', 'advocate', 'affair', 'affiliate', 'aficionado', 'african', 'age', 'agency', 'air', 'aka', 'alive', 'alternative', 'alum', 'alumnus', 'amateur', 'amazing', 'amazon', 'ambassador', 'america', 'american', 'analysis', 'analyst', 'android', 'angel', 'animal', 'anime', 'answer', 'anti', 'app', 'apple', 'area', 'arsenal', 'art', 'artist', 'ask', 'aspiring', 'assistant', 'associate', 'association', 'atheist', 'athlete', 'athletics', 'author', 'available', 'average', 'avid', 'award', 'away', 'awesome', 'baby', 'bad', 'bae', 'ball', 'band', 'bar', 'baseball', 'based', 'basketball', 'beach', 'bear', 'beat', 'beautiful', 'beauty', 'beer', 'believe', 'believer', 'best', 'better', 'bieber', 'big', 'biggest', 'bio', 'bit', 'bitch', 'black', 'blacklivesmatter', 'blessed', 'blind', 'blog', 'blogger', 'blue', 'board', 'body', 'book', 'booking', 'born', 'bot', 'boxing', 'boy', 'brain', 'brand', 'breaking', 'bring', 'bringing', 'british', 'broken', 'brother', 'brown', 'build', 'building', 'business', 'buy', 'ca', 'cab', 'cake', 'california', 'called', 'canada', 'canadian', 'cancer', 'car', 'card', 'care', 'career', 'cat', 'cause', 'celebrity', 'center', 'ceo', 'certified', 'champion', 'change', 'channel', 'character', 'chat', 'check', 'chef', 'chelsea', 'chicago', 'chief', 'child', 'chocolate', 'choice', 'christ', 'christian', 'church', 'city', 'class', 'classic', 'click', 'client', 'cloud', 'club', 'coach', 'coast', 'coffee', 'collector', 'college', 'com', 'come', 'comedian', 'comic', 'coming', 'commercial', 'communication', 'community', 'company', 'computer', 'concert', 'connect', 'conservative', 'consultant', 'contact', 'content', 'continuous', 'contributor', 'control', 'cook', 'cool', 'country', 'county', 'course', 'cover', 'coverage', 'covering', 'craft', 'crazy', 'create', 'created', 'creating', 'creative', 'creator', 'credit', 'cricket', 'culture', 'curator', 'current', 'currently', 'customer', 'cute', 'da', 'dad', 'daddy', 'daily', 'damn', 'dan', 'dance', 'dancer', 'dark', 'data', 'date', 'daughter', 'day', 'dc', 'dead', 'deal', 'death', 'dedicated', 'deep', 'delivers', 'design', 'designer', 'developer', 'development', 'die', 'diet', 'different', 'digital', 'direction', 'director', 'discover', 'disney', 'dj', 'dm', 'dog', 'dont', 'draw', 'dream', 'dreamer', 'drink', 'dude', 'eagle', 'earth', 'east', 'easy', 'eat', 'ed', 'editor', 'education', 'el', 'email', 'employer', 'empowered', 'en', 'end', 'endorsement', 'energy', 'engineer', 'england', 'english', 'enjoy', 'entertainment', 'enthusiast', 'entrepreneur', 'er', 'especially', 'est', 'estate', 'et', 'event', 'everyday', 'ex', 'executive', 'experience', 'expert', 'expressed', 'extremely', 'eye', 'face', 'facebook', 'fact', 'fair', 'faith', 'fall', 'family', 'fan', 'fanatic', 'fangirl', 'fantasy', 'fashion', 'fast', 'father', 'favorite', 'fb', 'fc', 'fear', 'feature', 'feed', 'feel', 'female', 'feminist', 'fi', 'fiction', 'fight', 'fighting', 'film', 'finance', 'financial', 'financially', 'finding', 'fine', 'firm', 'fish', 'fitness', 'fl', 'flash', 'florida', 'flower', 'fly', 'fm', 'focus', 'follow', 'followed', 'follower', 'following', 'follows', 'food', 'foodie', 'football', 'forever', 'founder', 'freak', 'free', 'freedom', 'freelance', 'fresh', 'friend', 'friendly', 'fuck', 'fucking', 'fun', 'funny', 'future', 'game', 'gamer', 'gaming', 'gay', 'geek', 'general', 'geo', 'geography', 'getting', 'gift', 'girl', 'global', 'gmail', 'goal', 'god', 'going', 'gold', 'golf', 'gon', 'good', 'google', 'got', 'government', 'grad', 'graduate', 'graphic', 'great', 'greatest', 'green', 'grfoxfjwpv', 'group', 'grow', 'growing', 'guide', 'guitar', 'guy', 'gym', 'hair', 'half', 'hand', 'happen', 'happening', 'happiness', 'happy', 'hard', 'harry', 'hate', 'head', 'health', 'healthcare', 'healthy', 'heart', 'hell', 'hello', 'help', 'helping', 'hero', 'hey', 'hi', 'high', 'highly', 'hip', 'history', 'hit', 'hockey', 'home', 'hop', 'hope', 'host', 'hot', 'hottest', 'hour', 'house', 'houston', 'http', 'huge', 'human', 'humble', 'husband', 'idea', 'ig', 'im', 'image', 'important', 'improve', 'independent', 'indie', 'individual', 'industry', 'info', 'information', 'innovation', 'inquiry', 'inspiration', 'inspirational', 'insta', 'instagram', 'interested', 'interesting', 'international', 'internet', 'interview', 'investment', 'io', 'iphone', 'irish', 'issue', 'itunes', 'jack', 'james', 'jesus', 'job', 'john', 'join', 'joke', 'journalist', 'junior', 'junkie', 'justice', 'justin', 'kath', 'keeping', 'key', 'kid', 'kind', 'king', 'know', 'knowledge', 'known', 'la', 'lady', 'largest', 'latest', 'laugh', 'law', 'lawyer', 'le', 'lead', 'leader', 'leadership', 'leading', 'league', 'learn', 'learning', 'leave', 'left', 'legal', 'legend', 'lesson', 'let', 'level', 'liberal', 'library', 'life', 'lifestyle', 'light', 'like', 'lil', 'line', 'link', 'listen', 'little', 'live', 'liverpool', 'living', 'local', 'location', 'london', 'long', 'look', 'looking', 'lord', 'los', 'lost', 'lot', 'louis', 'love', 'loved', 'lover', 'loving', 'mad', 'magazine', 'mail', 'major', 'make', 'maker', 'makeup', 'making', 'male', 'man', 'management', 'manager', 'managing', 'manchester', 'map', 'market', 'marketer', 'marketing', 'married', 'master', 'math', 'matter', 'maybe', 'mean', 'medical', 'medium', 'meet', 'member', 'men', 'met', 'metal', 'mi', 'miami', 'michael', 'military', 'mind', 'minute', 'miss', 'mission', 'mix', 'mobile', 'model', 'modern', 'mom', 'moment', 'mon', 'monday', 'money', 'moon', 'morning', 'mother', 'movie', 'mr', 'mufc', 'mum', 'music', 'musician', 'na', 'nation', 'national', 'native', 'natural', 'nature', 'nba', 'nd', 'need', 'nerd', 'net', 'network', 'new', 'news', 'newspaper', 'nfl', 'nice', 'nigeria', 'nigga', 'night', 'non', 'north', 'nsfw', 'number', 'nurse', 'ny', 'nyc', 'obsessed', 'occasional', 'offer', 'office', 'officer', 'official', 'oh', 'ohio', 'old', 'online', 'open', 'opinion', 'opportunity', 'order', 'organization', 'original', 'outlook', 'owner', 'page', 'pain', 'paper', 'parent', 'partner', 'party', 'passion', 'passionate', 'pc', 'peace', 'people', 'perfect', 'person', 'personal', 'pet', 'phd', 'phone', 'photo', 'photographer', 'photography', 'pic', 'pick', 'picture', 'piece', 'pin', 'pizza', 'place', 'plan', 'play', 'player', 'playing', 'plus', 'pm', 'podcast', 'poet', 'policy', 'political', 'politics', 'pop', 'porn', 'positive', 'post', 'power', 'pr', 'practice', 'premier', 'president', 'press', 'pretty', 'price', 'prince', 'princess', 'private', 'pro', 'probably', 'problem', 'producer', 'product', 'production', 'prof', 'professional', 'professor', 'profile', 'profit', 'program', 'progress', 'progressive', 'project', 'promo', 'promote', 'promoting', 'promotion', 'property', 'proud', 'provide', 'provides', 'providing', 'public', 'published', 'publisher', 'purpose', 'quality', 'que', 'queen', 'question', 'quiz', 'quote', 'radio', 'raised', 'random', 'rap', 'read', 'reader', 'reading', 'ready', 'real', 'reality', 'really', 'reason', 'record', 'red', 'register', 'related', 'relationship', 'remember', 'rendezvous', 'reporter', 'research', 'resident', 'resource', 'respect', 'rest', 'restaurant', 'retired', 'retweets', 'review', 'right', 'rip', 'road', 'rock', 'romance', 'rp', 'rt', 'rts', 'rule', 'run', 'runner', 'running', 'rzoj', 'sad', 'said', 'sale', 'san', 'save', 'say', 'sc', 'school', 'sci', 'science', 'se', 'search', 'season', 'seattle', 'second', 'secret', 'secure', 'security', 'seen', 'self', 'sell', 'selling', 'send', 'senior', 'sense', 'seo', 'series', 'service', 'serving', 'set', 'sex', 'sexy', 'shall', 'share', 'sharing', 'shit', 'shop', 'shopping', 'short', 'sign', 'simple', 'singer', 'single', 'sister', 'site', 'sleep', 'small', 'smile', 'snap', 'snapchat', 'soccer', 'social', 'socialmedia', 'society', 'software', 'solution', 'son', 'song', 'songwriter', 'soon', 'sorry', 'soul', 'sound', 'source', 'south', 'southern', 'space', 'speak', 'speaker', 'special', 'specialist', 'specializing', 'spirit', 'spiritually', 'sport', 'st', 'stan', 'stand', 'star', 'start', 'started', 'startup', 'state', 'station', 'stay', 'step', 'stock', 'stop', 'store', 'story', 'straight', 'strategist', 'strategy', 'stream', 'streamer', 'street', 'strength', 'strong', 'student', 'study', 'stuff', 'style', 'subscribe', 'success', 'sun', 'super', 'support', 'supporter', 'supporting', 'sure', 'sweet', 'ta', 'taken', 'taking', 'talent', 'talk', 'talkradio', 'targeted', 'tax', 'taylor', 'tea', 'teacher', 'team', 'tech', 'technology', 'tell', 'tennis', 'texas', 'th', 'thank', 'thanks', 'theatre', 'thing', 'think', 'thinking', 'thought', 'ticket', 'time', 'tip', 'today', 'tour', 'town', 'track', 'trade', 'trainer', 'training', 'trash', 'travel', 'traveler', 'traveller', 'trend', 'true', 'trump', 'trust', 'truth', 'try', 'trying', 'turn', 'tv', 'tweet', 'tweeting', 'tweetmyjobs', 'twitch', 'twitter', 'type', 'uk', 'unique', 'united', 'universe', 'university', 'update', 'ur', 'urban', 'usa', 'use', 'using', 'ux', 'vegan', 'veteran', 'vibe', 'video', 'view', 'vintage', 'visit', 'voice', 'volunteer', 'wait', 'walk', 'walking', 'wan', 'want', 'war', 'warrior', 'washington', 'watch', 'watching', 'water', 'way', 'wear', 'weather', 'web', 'website', 'wedding', 'week', 'welcome', 'west', 'white', 'wife', 'wild', 'win', 'wine', 'winner', 'winning', 'wish', 'wolf', 'woman', 'wonderful', 'word', 'work', 'worker', 'working', 'world', 'worldwide', 'worth', 'wrestling', 'write', 'writer', 'writing', 'wrong', 'wwe', 'xx', 'ya', 'yeah', 'year', 'yes', 'yo', 'yoga', 'york', 'young', 'youth', 'youtube', 'youtuber', 'yr', 'zayn']\n"
     ]
    },
    {
     "name": "stderr",
     "output_type": "stream",
     "text": [
      "/usr/local/lib/python3.7/dist-packages/sklearn/utils/deprecation.py:87: FutureWarning: Function get_feature_names is deprecated; get_feature_names is deprecated in 1.0 and will be removed in 1.2. Please use get_feature_names_out instead.\n",
      "  warnings.warn(msg, category=FutureWarning)\n"
     ]
    }
   ],
   "source": [
    "from sklearn.feature_extraction.text import CountVectorizer\n",
    "\n",
    "max_features = 1000\n",
    "\n",
    "count_vectorizer = CountVectorizer(max_features=max_features, stop_words = \"english\")\n",
    "sparce_matrix = count_vectorizer.fit_transform(tweets_list).toarray()\n",
    "print(\"{} most common words: {}\".format(max_features, count_vectorizer.get_feature_names()))"
   ]
  },
  {
   "cell_type": "markdown",
   "metadata": {
    "id": "q0Mbq0t61UED"
   },
   "source": [
    "Train, Test split"
   ]
  },
  {
   "cell_type": "code",
   "execution_count": null,
   "metadata": {
    "id": "RxDkFNr61QO1"
   },
   "outputs": [],
   "source": [
    "y = twitter_data.iloc[:,0].values # male or female classes\n",
    "x = sparce_matrix\n",
    "from sklearn.model_selection import train_test_split\n",
    "\n",
    "x_train,x_test,y_train,y_test = train_test_split(x,y,test_size = 0.2,random_state = 42)"
   ]
  },
  {
   "cell_type": "markdown",
   "metadata": {
    "id": "PIYcqLVK-be8"
   },
   "source": [
    "Random Forest"
   ]
  },
  {
   "cell_type": "code",
   "execution_count": null,
   "metadata": {
    "colab": {
     "base_uri": "https://localhost:8080/"
    },
    "id": "I1-wzrga3cqt",
    "outputId": "de3464af-15a6-4c59-98b5-adc7f80ac86c"
   },
   "outputs": [
    {
     "name": "stdout",
     "output_type": "stream",
     "text": [
      "Accuracy:  0.688244766505636\n"
     ]
    }
   ],
   "source": [
    "# Random Forest Implementation\n",
    "from sklearn.ensemble import RandomForestClassifier\n",
    "from sklearn.metrics import accuracy_score\n",
    "rf = RandomForestClassifier()\n",
    "rf.fit(x_train, y_train)\n",
    "# prediction\n",
    "y_pred = rf.predict(x_test)\n",
    "# Random Forest \n",
    "accuracy = accuracy_score(y_test, y_pred)\n",
    "print(\"Accuracy: \", accuracy)"
   ]
  },
  {
   "cell_type": "markdown",
   "metadata": {
    "id": "a0eqdeQM-ybP"
   },
   "source": [
    "Naive Bayes Gaussian"
   ]
  },
  {
   "cell_type": "code",
   "execution_count": null,
   "metadata": {
    "colab": {
     "base_uri": "https://localhost:8080/"
    },
    "id": "DtdZw2vMC13u",
    "outputId": "06b8f39a-abb1-4b36-c296-0ff0dcb8eea4"
   },
   "outputs": [
    {
     "name": "stdout",
     "output_type": "stream",
     "text": [
      "accuracy:  0.5935587761674718\n"
     ]
    }
   ],
   "source": [
    "from sklearn.naive_bayes import GaussianNB\n",
    "nb = GaussianNB()\n",
    "nb.fit(x_train,y_train)\n",
    "print(\"accuracy: \",nb.score(x_test,y_test))"
   ]
  },
  {
   "cell_type": "code",
   "execution_count": null,
   "metadata": {
    "colab": {
     "base_uri": "https://localhost:8080/"
    },
    "id": "FEvzK_YlC7dO",
    "outputId": "89a2574c-0951-44aa-af0f-29fdbdd4f6d4"
   },
   "outputs": [
    {
     "name": "stdout",
     "output_type": "stream",
     "text": [
      "Accuracy:  0.6689210950080515\n"
     ]
    }
   ],
   "source": [
    "from sklearn.naive_bayes import MultinomialNB\n",
    "nb = MultinomialNB()\n",
    "nb.fit(x_train, y_train)\n",
    "# prediction\n",
    "y_pred = nb.predict(x_test)\n",
    "accuracy = accuracy_score(y_test, y_pred)\n",
    "print(\"Accuracy: \", accuracy)"
   ]
  },
  {
   "cell_type": "code",
   "execution_count": null,
   "metadata": {
    "colab": {
     "base_uri": "https://localhost:8080/"
    },
    "id": "RlUPyMAcDyJq",
    "outputId": "4d5db74c-5ea5-4e09-c079-7f1328dedce6"
   },
   "outputs": [
    {
     "name": "stdout",
     "output_type": "stream",
     "text": [
      "Accuracy:  0.6769726247987118\n"
     ]
    }
   ],
   "source": [
    "from sklearn.linear_model import LogisticRegression\n",
    "lr = LogisticRegression(max_iter = 2000)\n",
    "lr.fit(x_train,y_train)\n",
    "# prediction\n",
    "y_pred = lr.predict(x_test)\n",
    "accuracy = accuracy_score(y_test, y_pred)\n",
    "print(\"Accuracy: \", accuracy)"
   ]
  },
  {
   "cell_type": "code",
   "execution_count": null,
   "metadata": {
    "colab": {
     "base_uri": "https://localhost:8080/"
    },
    "id": "rVTxOkZeER9T",
    "outputId": "152e34d6-e6d6-4bab-b015-1cdb2ea2d23f"
   },
   "outputs": [
    {
     "name": "stdout",
     "output_type": "stream",
     "text": [
      "[0.66384863 0.65660225 0.65888039 0.66250503 0.654853  ]\n",
      "0.6593378613865752\n"
     ]
    }
   ],
   "source": [
    "from xgboost import XGBClassifier\n",
    "from sklearn.model_selection import cross_val_score\n",
    "xgb = XGBClassifier(random_state =1)\n",
    "cv = cross_val_score(xgb,x_train,y_train,cv=5)\n",
    "print(cv)\n",
    "print(cv.mean())"
   ]
  },
  {
   "cell_type": "markdown",
   "metadata": {
    "id": "ectXrgKk6e-I"
   },
   "source": [
    "# TF-IDF"
   ]
  },
  {
   "cell_type": "markdown",
   "metadata": {
    "id": "SxjEBks5g7kR"
   },
   "source": [
    "TF-IDF"
   ]
  },
  {
   "cell_type": "code",
   "execution_count": null,
   "metadata": {
    "id": "c8qZ9UWmyg_c"
   },
   "outputs": [],
   "source": [
    "\n",
    "from sklearn.model_selection import train_test_split\n",
    "from sklearn.preprocessing import LabelEncoder\n",
    "\n",
    "from sklearn.feature_extraction.text import TfidfVectorizer\n",
    "vectorizer = TfidfVectorizer(max_features=500)\n",
    "\n",
    "y = twitter_data['gender']\n",
    "x = twitter_data['description']\n",
    "x_train, x_test, y_train, y_test = train_test_split(x, y, test_size=0.2, random_state=42, stratify=y)"
   ]
  },
  {
   "cell_type": "code",
   "execution_count": null,
   "metadata": {
    "id": "tRMP7jru1g04"
   },
   "outputs": [],
   "source": [
    "#fit and apply on train set\n",
    "trans_X_train = vectorizer.fit_transform(x_train)\n",
    "#Apply on the test set.\n",
    "trans_X_test = vectorizer.transform(x_test)"
   ]
  },
  {
   "cell_type": "markdown",
   "metadata": {
    "id": "jQJIuhGvzbRO"
   },
   "source": [
    "Logistic Regression"
   ]
  },
  {
   "cell_type": "code",
   "execution_count": null,
   "metadata": {
    "colab": {
     "base_uri": "https://localhost:8080/"
    },
    "id": "N2uwanfm1q4G",
    "outputId": "25b9af57-1301-4161-d3df-7400d7aa49d1"
   },
   "outputs": [
    {
     "name": "stdout",
     "output_type": "stream",
     "text": [
      "accuracy: 0.6879227053140097\n"
     ]
    }
   ],
   "source": [
    "lr = LogisticRegression()\n",
    "lr.fit(trans_X_train, y_train)\n",
    "\n",
    "lr_pred = lr.predict(trans_X_test)\n",
    "print('accuracy:', accuracy_score(y_test, lr_pred))"
   ]
  },
  {
   "cell_type": "code",
   "execution_count": null,
   "metadata": {
    "colab": {
     "base_uri": "https://localhost:8080/"
    },
    "id": "oGXW0o4P2-xn",
    "outputId": "a2f7d696-905a-439f-fef8-5de05fa39f94"
   },
   "outputs": [
    {
     "name": "stdout",
     "output_type": "stream",
     "text": [
      "accuracy:  0.6801932367149759\n"
     ]
    }
   ],
   "source": [
    "rf = RandomForestClassifier()\n",
    "rf.fit(trans_X_train, y_train)\n",
    "\n",
    "rf_pred = rf.predict(trans_X_test)\n",
    "print('accuracy: ', accuracy_score(y_test, rf_pred))"
   ]
  },
  {
   "cell_type": "code",
   "execution_count": null,
   "metadata": {
    "colab": {
     "base_uri": "https://localhost:8080/"
    },
    "id": "QYmHtYhI3WQX",
    "outputId": "cad12529-9a30-4e6d-f3ec-8bf9a41a7ae9"
   },
   "outputs": [
    {
     "name": "stdout",
     "output_type": "stream",
     "text": [
      "accuracy:  0.6148148148148148\n"
     ]
    }
   ],
   "source": [
    "gnb_df = pd.DataFrame()\n",
    "\n",
    "gnb = GaussianNB()\n",
    "gnb.fit(trans_X_train.toarray(), y_train)\n",
    "\n",
    "gnb_pred = gnb.predict(trans_X_test.toarray())\n",
    "print('accuracy: ', accuracy_score(y_test, gnb_pred))"
   ]
  },
  {
   "cell_type": "code",
   "execution_count": null,
   "metadata": {
    "colab": {
     "base_uri": "https://localhost:8080/"
    },
    "id": "zeMHtAcD4BHI",
    "outputId": "ce162d45-c30c-4d94-81e3-e4c4b17331ca"
   },
   "outputs": [
    {
     "name": "stdout",
     "output_type": "stream",
     "text": [
      "accuracy:  0.6869565217391305\n"
     ]
    }
   ],
   "source": [
    "nb = MultinomialNB()\n",
    "nb.fit(trans_X_train.toarray(), y_train)\n",
    "\n",
    "nb_pred = nb.predict(trans_X_test.toarray())\n",
    "print('accuracy: ', accuracy_score(y_test, nb_pred))"
   ]
  },
  {
   "cell_type": "code",
   "execution_count": null,
   "metadata": {
    "colab": {
     "base_uri": "https://localhost:8080/"
    },
    "id": "p74-ts5c4U0W",
    "outputId": "102a2c76-71b0-4dba-ca2e-9050b149e76d"
   },
   "outputs": [
    {
     "name": "stdout",
     "output_type": "stream",
     "text": [
      "[0.65982287 0.66062802 0.67418445 0.66975433 0.67055981]\n",
      "0.6669898952166196\n"
     ]
    }
   ],
   "source": [
    "xgb = XGBClassifier(random_state =1)\n",
    "cv = cross_val_score(xgb,trans_X_train, y_train,cv=5)\n",
    "print(cv)\n",
    "print(cv.mean())"
   ]
  },
  {
   "cell_type": "markdown",
   "metadata": {
    "id": "7xiVXjX66kbS"
   },
   "source": [
    "# Building a model"
   ]
  },
  {
   "cell_type": "code",
   "execution_count": null,
   "metadata": {
    "id": "jk7aPGRRpvNK"
   },
   "outputs": [],
   "source": [
    "import tensorflow as tf\n",
    "from tensorflow.keras.preprocessing.text import Tokenizer\n",
    "from tensorflow.keras.preprocessing.sequence import pad_sequences\n",
    "import tensorflow.keras.layers as L\n",
    "from tensorflow.keras.losses import SparseCategoricalCrossentropy\n",
    "from tensorflow.keras.optimizers import Adam"
   ]
  },
  {
   "cell_type": "code",
   "execution_count": null,
   "metadata": {
    "id": "9YfMDm-5MI-a"
   },
   "outputs": [],
   "source": [
    "from keras.models import Sequential\n",
    "from keras import layers\n",
    "y = twitter_data.iloc[:,0].values \n",
    "x = sparce_matrix\n",
    "x_train, x_test, y_train, y_test = train_test_split(x,y, test_size = 0.1, random_state = 2)\n",
    "input_dim = x_train.shape[1] \n",
    "\n",
    "model = Sequential()\n",
    "model.add(layers.Dense(10, input_dim=input_dim, activation='relu'))\n",
    "model.add(layers.Dense(1, activation='sigmoid'))\n",
    "\n"
   ]
  },
  {
   "cell_type": "code",
   "execution_count": null,
   "metadata": {
    "colab": {
     "base_uri": "https://localhost:8080/"
    },
    "id": "zA81bRXTMSSe",
    "outputId": "41dfae70-b5f4-4443-f1e4-8855cdf83215"
   },
   "outputs": [
    {
     "name": "stdout",
     "output_type": "stream",
     "text": [
      "Model: \"sequential_19\"\n",
      "_________________________________________________________________\n",
      " Layer (type)                Output Shape              Param #   \n",
      "=================================================================\n",
      " dense_37 (Dense)            (None, 10)                10010     \n",
      "                                                                 \n",
      " dense_38 (Dense)            (None, 1)                 11        \n",
      "                                                                 \n",
      "=================================================================\n",
      "Total params: 10,021\n",
      "Trainable params: 10,021\n",
      "Non-trainable params: 0\n",
      "_________________________________________________________________\n"
     ]
    }
   ],
   "source": [
    "model.compile(loss='binary_crossentropy', \n",
    "               optimizer='adam', \n",
    "               metrics=['accuracy'])\n",
    "model.summary()"
   ]
  },
  {
   "cell_type": "code",
   "execution_count": null,
   "metadata": {
    "id": "UzLDxaw2LhWi"
   },
   "outputs": [],
   "source": [
    "history = model.fit(x_train, y_train,\n",
    "                     epochs=50,\n",
    "                     verbose=False,\n",
    "                     validation_data=(x_test, y_test),\n",
    "                     batch_size=5)\n",
    "\n"
   ]
  },
  {
   "cell_type": "code",
   "execution_count": null,
   "metadata": {
    "colab": {
     "base_uri": "https://localhost:8080/"
    },
    "id": "-m9PrpQ7NTtj",
    "outputId": "b8a47608-02eb-4946-dce3-6b7e6c785c3a"
   },
   "outputs": [
    {
     "name": "stdout",
     "output_type": "stream",
     "text": [
      "Training Accuracy: 0.8961\n",
      "Testing Accuracy:  0.6858\n"
     ]
    }
   ],
   "source": [
    "loss, accuracy = model.evaluate(x_train, y_train, verbose=False)\n",
    "print(\"Training Accuracy: {:.4f}\".format(accuracy))\n",
    "loss, accuracy = model.evaluate(x_test, y_test, verbose=False)\n",
    "print(\"Testing Accuracy:  {:.4f}\".format(accuracy))"
   ]
  },
  {
   "cell_type": "code",
   "execution_count": null,
   "metadata": {
    "colab": {
     "base_uri": "https://localhost:8080/"
    },
    "id": "OxHaoIaJOMcC",
    "outputId": "5b33f0a9-45f7-49b0-fcb0-bd43e735361f"
   },
   "outputs": [
    {
     "name": "stdout",
     "output_type": "stream",
     "text": [
      "Model: \"sequential_27\"\n",
      "_________________________________________________________________\n",
      " Layer (type)                Output Shape              Param #   \n",
      "=================================================================\n",
      " dense_64 (Dense)            (None, 256)               256256    \n",
      "                                                                 \n",
      " dropout_42 (Dropout)        (None, 256)               0         \n",
      "                                                                 \n",
      " dense_65 (Dense)            (None, 128)               32896     \n",
      "                                                                 \n",
      " dropout_43 (Dropout)        (None, 128)               0         \n",
      "                                                                 \n",
      " dense_66 (Dense)            (None, 64)                8256      \n",
      "                                                                 \n",
      " dropout_44 (Dropout)        (None, 64)                0         \n",
      "                                                                 \n",
      " dense_67 (Dense)            (None, 5)                 325       \n",
      "                                                                 \n",
      "=================================================================\n",
      "Total params: 297,733\n",
      "Trainable params: 297,733\n",
      "Non-trainable params: 0\n",
      "_________________________________________________________________\n"
     ]
    }
   ],
   "source": [
    "# hyper parameters\n",
    "EPOCHS = 30\n",
    "BATCH_SIZE = 10\n",
    "embedding_dim = 8\n",
    "units = 10\n",
    "\n",
    "model = tf.keras.Sequential([\n",
    "    L.Dense(256, input_dim=input_dim, activation='relu'),\n",
    "    L.Dropout(0.5),\n",
    "    L.Dense(128,activation=\"relu\"),\n",
    "    L.Dropout(0.5),\n",
    "    L.Dense(64,activation=\"relu\"),\n",
    "    L.Dropout(0.5),\n",
    "    L.Dense(5, activation=\"softmax\")\n",
    "])\n",
    "\n",
    "\n",
    "model.compile(loss=SparseCategoricalCrossentropy(),\n",
    "              optimizer='adam',metrics=['accuracy']\n",
    "             )\n",
    "\n",
    "model.summary()"
   ]
  },
  {
   "cell_type": "code",
   "execution_count": null,
   "metadata": {
    "id": "a2h7ou5NOQkB"
   },
   "outputs": [],
   "source": [
    "history = model.fit(x_train, y_train,epochs=EPOCHS,verbose=False, validation_data=(x_test, y_test),batch_size=5)"
   ]
  },
  {
   "cell_type": "code",
   "execution_count": null,
   "metadata": {
    "colab": {
     "base_uri": "https://localhost:8080/"
    },
    "id": "7R2a_WJkQoO4",
    "outputId": "ada24c8f-7efd-467e-9851-a14e0691b24c"
   },
   "outputs": [
    {
     "name": "stdout",
     "output_type": "stream",
     "text": [
      "Training Accuracy: 0.9116\n",
      "Testing Accuracy:  0.7012\n"
     ]
    }
   ],
   "source": [
    "loss, accuracy = model.evaluate(x_train, y_train, verbose=False)\n",
    "print(\"Training Accuracy: {:.4f}\".format(accuracy))\n",
    "loss, accuracy = model.evaluate(x_test, y_test, verbose=False)\n",
    "print(\"Testing Accuracy:  {:.4f}\".format(accuracy))"
   ]
  },
  {
   "cell_type": "code",
   "execution_count": null,
   "metadata": {
    "colab": {
     "base_uri": "https://localhost:8080/",
     "height": 355
    },
    "id": "Q6LRKPorUaEO",
    "outputId": "eb4199c4-7c06-40e2-f9c6-1936beb68bb5"
   },
   "outputs": [
    {
     "data": {
      "text/plain": [
       "<matplotlib.legend.Legend at 0x7fcdceaf8210>"
      ]
     },
     "execution_count": 159,
     "metadata": {},
     "output_type": "execute_result"
    },
    {
     "data": {
      "image/png": "[encoded data removed]",
      "text/plain": [
       "<Figure size 864x360 with 2 Axes>"
      ]
     },
     "metadata": {},
     "output_type": "display_data"
    }
   ],
   "source": [
    "import matplotlib.pyplot as plt\n",
    "acc = history.history['accuracy']\n",
    "val_acc = history.history['val_accuracy']\n",
    "loss = history.history['loss']\n",
    "val_loss = history.history['val_loss']\n",
    "x = range(1, len(acc) + 1)\n",
    "\n",
    "plt.figure(figsize=(12, 5))\n",
    "plt.subplot(1, 2, 1)\n",
    "plt.plot(x, acc, 'b', label='Training acc')\n",
    "plt.plot(x, val_acc, 'r', label='Validation acc')\n",
    "plt.title('Training and validation accuracy')\n",
    "plt.legend()\n",
    "plt.subplot(1, 2, 2)\n",
    "plt.plot(x, loss, 'b', label='Training loss')\n",
    "plt.plot(x, val_loss, 'r', label='Validation loss')\n",
    "plt.title('Training and validation loss')\n",
    "plt.legend()\n",
    "\n",
    "\n"
   ]
  }
 ],
 "metadata": {
  "colab": {
   "collapsed_sections": [],
   "name": "ADM-Krywalska-Komnata.ipynb",
   "provenance": []
  },
  "kernelspec": {
   "display_name": "Python 3",
   "language": "python",
   "name": "python3"
  },
  "language_info": {
   "codemirror_mode": {
    "name": "ipython",
    "version": 3
   },
   "file_extension": ".py",
   "mimetype": "text/x-python",
   "name": "python",
   "nbconvert_exporter": "python",
   "pygments_lexer": "ipython3",
   "version": "3.8.3"
  }
 },
 "nbformat": 4,
 "nbformat_minor": 1
}
